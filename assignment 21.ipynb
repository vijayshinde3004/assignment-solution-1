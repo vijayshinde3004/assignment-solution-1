{
 "cells": [
  {
   "cell_type": "code",
   "execution_count": null,
   "id": "4f42c135",
   "metadata": {},
   "outputs": [],
   "source": [
    "1. Add the current date to the text file today.txt as a string."
   ]
  },
  {
   "cell_type": "code",
   "execution_count": 1,
   "id": "70526e1a",
   "metadata": {},
   "outputs": [
    {
     "name": "stdout",
     "output_type": "stream",
     "text": [
      "11-12-2022\n"
     ]
    }
   ],
   "source": [
    "import datetime\n",
    "file = open('today.txt','w')\n",
    "file.write(datetime.datetime.now().strftime(\"%d-%m-%Y\"))\n",
    "file.close()\n",
    "file = open('today.txt','r')\n",
    "print(file.read())\n",
    "file.close()\n"
   ]
  },
  {
   "cell_type": "code",
   "execution_count": null,
   "id": "35df6149",
   "metadata": {},
   "outputs": [],
   "source": []
  },
  {
   "cell_type": "code",
   "execution_count": null,
   "id": "93abf849",
   "metadata": {},
   "outputs": [],
   "source": [
    "2. Read the text file today.txt into the string today_string"
   ]
  },
  {
   "cell_type": "code",
   "execution_count": 2,
   "id": "c279015a",
   "metadata": {},
   "outputs": [
    {
     "name": "stdout",
     "output_type": "stream",
     "text": [
      "11-12-2022\n"
     ]
    }
   ],
   "source": [
    "file = open('today.txt','r')\n",
    "today_string = file.read()\n",
    "print(today_string)\n"
   ]
  },
  {
   "cell_type": "code",
   "execution_count": null,
   "id": "9e1a9fd1",
   "metadata": {},
   "outputs": [],
   "source": [
    "3. Parse the date from today_string."
   ]
  },
  {
   "cell_type": "code",
   "execution_count": 3,
   "id": "33743df7",
   "metadata": {},
   "outputs": [
    {
     "name": "stdout",
     "output_type": "stream",
     "text": [
      "2022-12-11 00:00:00\n"
     ]
    }
   ],
   "source": [
    "from datetime import datetime\n",
    "parsed_data = datetime.strptime(today_string, '%d-%m-%Y')\n",
    "print(parsed_data)\n"
   ]
  },
  {
   "cell_type": "code",
   "execution_count": null,
   "id": "2c166512",
   "metadata": {},
   "outputs": [],
   "source": [
    "4. List the files in your current directory"
   ]
  },
  {
   "cell_type": "code",
   "execution_count": 4,
   "id": "2405ea59",
   "metadata": {},
   "outputs": [
    {
     "name": "stdout",
     "output_type": "stream",
     "text": [
      "application_log.txt\n",
      "assignment 1  soluion.ipynb\n",
      "assignment 11.ipynb\n",
      "Assignment 12.ipynb\n",
      "assignment 13.ipynb\n",
      "assignment 14.ipynb\n",
      "assignment 15.ipynb\n",
      "assignment 16.ipynb\n",
      "assignment 17.ipynb\n",
      "assignment 18.ipynb\n",
      "assignment 19.ipynb\n",
      "assignment 2.ipynb\n",
      "assignment 20.ipynb\n",
      "assignment 21.ipynb\n",
      "assignment 3.ipynb\n",
      "assignment 4.ipynb\n",
      "assignment 5.ipynb\n",
      "assignment 6.ipynb\n",
      "assignment 7.ipynb\n",
      "assignment 8.ipynb\n",
      "assignment 9.ipynb\n",
      "assignment10.ipynb\n",
      "Assignment_1 (1).docx\n",
      "Assignment_2.docx\n",
      "books.csv\n",
      "books.db\n",
      "iphone.csv\n",
      "pic2.jpg\n",
      "practical assignment 6.ipynb\n",
      "program assignment 4.ipynb\n",
      "programing assignment 12.ipynb\n",
      "programming  assignment 1.ipynb\n",
      "programming assignment 10.ipynb\n",
      "programming assignment 11.ipynb\n",
      "programming assignment 13.ipynb\n",
      "programming assignment 14.ipynb\n",
      "programming assignment 15.ipynb\n",
      "programming assignment 16.ipynb\n",
      "programming assignment 17.ipynb\n",
      "programming assignment 18.ipynb\n",
      "programming assignment 19.ipynb\n",
      "programming assignment 2.ipynb\n",
      "programming assignment 20.ipynb\n",
      "programming assignment 21.ipynb\n",
      "programming assignment 22.ipynb\n",
      "programming assignment 23.ipynb\n",
      "programming assignment 24.ipynb\n",
      "programming assignment 25.ipynb\n",
      "programming assignment 3.ipynb\n",
      "programming assignment 5.ipynb\n",
      "programming assignment 7.ipynb\n",
      "programming assignment 8.ipynb\n",
      "programming assignment 9.ipynb\n",
      "test.txt\n",
      "text1.txt\n",
      "text2.csv\n",
      "today.txt\n",
      "zoo.py\n",
      ".gitignore\n",
      "inueron assignments solved.iml\n",
      "misc.xml\n",
      "modules.xml\n",
      "workspace.xml\n",
      "profiles_settings.xml\n",
      "assignment 1  soluion-checkpoint.ipynb\n",
      "assignment 11-checkpoint.ipynb\n",
      "Assignment 12-checkpoint.ipynb\n",
      "assignment 13-checkpoint.ipynb\n",
      "assignment 14-checkpoint.ipynb\n",
      "assignment 15-checkpoint.ipynb\n",
      "assignment 16-checkpoint.ipynb\n",
      "assignment 17-checkpoint.ipynb\n",
      "assignment 18-checkpoint.ipynb\n",
      "assignment 19-checkpoint.ipynb\n",
      "assignment 2-checkpoint.ipynb\n",
      "assignment 20-checkpoint.ipynb\n",
      "assignment 21-checkpoint.ipynb\n",
      "assignment 3-checkpoint.ipynb\n",
      "assignment 4-checkpoint.ipynb\n",
      "assignment 5-checkpoint.ipynb\n",
      "assignment 6-checkpoint.ipynb\n",
      "assignment 7-checkpoint.ipynb\n",
      "assignment 8-checkpoint.ipynb\n",
      "assignment 9-checkpoint.ipynb\n",
      "assignment10-checkpoint.ipynb\n",
      "practical assignment 6-checkpoint.ipynb\n",
      "program assignment 4-checkpoint.ipynb\n",
      "programing assignment 12-checkpoint.ipynb\n",
      "programming  assignment 1-checkpoint.ipynb\n",
      "programming assignment 10-checkpoint.ipynb\n",
      "programming assignment 11-checkpoint.ipynb\n",
      "programming assignment 13-checkpoint.ipynb\n",
      "programming assignment 14-checkpoint.ipynb\n",
      "programming assignment 15-checkpoint.ipynb\n",
      "programming assignment 16-checkpoint.ipynb\n",
      "programming assignment 17-checkpoint.ipynb\n",
      "programming assignment 18-checkpoint.ipynb\n",
      "programming assignment 19-checkpoint.ipynb\n",
      "programming assignment 2-checkpoint.ipynb\n",
      "programming assignment 20-checkpoint.ipynb\n",
      "programming assignment 21-checkpoint.ipynb\n",
      "programming assignment 22-checkpoint.ipynb\n",
      "programming assignment 23-checkpoint.ipynb\n",
      "programming assignment 24-checkpoint.ipynb\n",
      "programming assignment 25-checkpoint.ipynb\n",
      "programming assignment 3-checkpoint.ipynb\n",
      "programming assignment 5-checkpoint.ipynb\n",
      "programming assignment 7-checkpoint.ipynb\n",
      "programming assignment 8-checkpoint.ipynb\n",
      "programming assignment 9-checkpoint.ipynb\n",
      "zoo.cpython-39.pyc\n"
     ]
    }
   ],
   "source": [
    "import os\n",
    "for folders, subfolders, files in os.walk(os.getcwd()):\n",
    "    for file in files:\n",
    "        print(file)\n"
   ]
  },
  {
   "cell_type": "code",
   "execution_count": null,
   "id": "ddaf3c88",
   "metadata": {},
   "outputs": [],
   "source": [
    "5. Create a list of all of the files in your parent directory (minimum five files should be available)."
   ]
  },
  {
   "cell_type": "code",
   "execution_count": 5,
   "id": "3794d5fc",
   "metadata": {},
   "outputs": [
    {
     "data": {
      "text/plain": [
       "['.idea',\n",
       " '.ipynb_checkpoints',\n",
       " 'application_log.txt',\n",
       " 'assignment 1  soluion.ipynb',\n",
       " 'assignment 11.ipynb',\n",
       " 'Assignment 12.ipynb',\n",
       " 'assignment 13.ipynb',\n",
       " 'assignment 14.ipynb',\n",
       " 'assignment 15.ipynb',\n",
       " 'assignment 16.ipynb',\n",
       " 'assignment 17.ipynb',\n",
       " 'assignment 18.ipynb',\n",
       " 'assignment 19.ipynb',\n",
       " 'assignment 2.ipynb',\n",
       " 'assignment 20.ipynb',\n",
       " 'assignment 21.ipynb',\n",
       " 'assignment 3.ipynb',\n",
       " 'assignment 4.ipynb',\n",
       " 'assignment 5.ipynb',\n",
       " 'assignment 6.ipynb',\n",
       " 'assignment 7.ipynb',\n",
       " 'assignment 8.ipynb',\n",
       " 'assignment 9.ipynb',\n",
       " 'assignment10.ipynb',\n",
       " 'Assignment_1 (1).docx',\n",
       " 'Assignment_2.docx',\n",
       " 'books.csv',\n",
       " 'books.db',\n",
       " 'iphone.csv',\n",
       " 'pic2.jpg',\n",
       " 'practical assignment 6.ipynb',\n",
       " 'program assignment 4.ipynb',\n",
       " 'programing assignment 12.ipynb',\n",
       " 'programming  assignment 1.ipynb',\n",
       " 'programming assignment 10.ipynb',\n",
       " 'programming assignment 11.ipynb',\n",
       " 'programming assignment 13.ipynb',\n",
       " 'programming assignment 14.ipynb',\n",
       " 'programming assignment 15.ipynb',\n",
       " 'programming assignment 16.ipynb',\n",
       " 'programming assignment 17.ipynb',\n",
       " 'programming assignment 18.ipynb',\n",
       " 'programming assignment 19.ipynb',\n",
       " 'programming assignment 2.ipynb',\n",
       " 'programming assignment 20.ipynb',\n",
       " 'programming assignment 21.ipynb',\n",
       " 'programming assignment 22.ipynb',\n",
       " 'programming assignment 23.ipynb',\n",
       " 'programming assignment 24.ipynb',\n",
       " 'programming assignment 25.ipynb',\n",
       " 'programming assignment 3.ipynb',\n",
       " 'programming assignment 5.ipynb',\n",
       " 'programming assignment 7.ipynb',\n",
       " 'programming assignment 8.ipynb',\n",
       " 'programming assignment 9.ipynb',\n",
       " 'test.txt',\n",
       " 'text1.txt',\n",
       " 'text2.csv',\n",
       " 'today.txt',\n",
       " 'zoo.py',\n",
       " '__pycache__']"
      ]
     },
     "execution_count": 5,
     "metadata": {},
     "output_type": "execute_result"
    }
   ],
   "source": [
    "\n",
    "import os \n",
    "os.listdir()\n"
   ]
  },
  {
   "cell_type": "code",
   "execution_count": null,
   "id": "ff491659",
   "metadata": {},
   "outputs": [],
   "source": [
    "6. Use multiprocessing to create three separate processes.\n",
    "Make each one wait a random number of seconds between one and five, print the current time, and then exit."
   ]
  },
  {
   "cell_type": "code",
   "execution_count": 9,
   "id": "1fe5150e",
   "metadata": {},
   "outputs": [],
   "source": [
    "import multiprocessing\n",
    "import time \n",
    "import random\n",
    "import datetime\n",
    "\n",
    "def procOne():\n",
    "    print(f'Proc_one_Starttime -> {datetime.datetime.now()}')\n",
    "    time.sleep(random.randint(1,5))\n",
    "    print(f'Proc_one_Endtime -> {datetime.datetime.now()}')\n",
    "    \n",
    "def procTwo():\n",
    "    print(f'Proc_two_Starttime -> {datetime.datetime.now()}')\n",
    "    time.sleep(random.randint(1,5))\n",
    "    print(f'Proc_two_Endtime -> {datetime.datetime.now()}')\n",
    "\n",
    "def procThree():\n",
    "    print(f'Proc_two_Starttime -> {datetime.datetime.now()}')\n",
    "    time.sleep(random.randint(1,5))\n",
    "    print(f'Proc_two_Endtime -> {datetime.datetime.now()}')\n",
    "    \n",
    "if __name__ == \"__main__\":    \n",
    "    p1 = multiprocessing.Process(target=procOne)\n",
    "    p2 = multiprocessing.Process(target=procTwo)\n",
    "    p3 = multiprocessing.Process(target=procThree)\n",
    "\n",
    "    p1.start()\n",
    "    p2.start()\n",
    "    p3.start()\n",
    "\n",
    "    p1.join()\n",
    "    p2.join()\n",
    "    p3.join()"
   ]
  },
  {
   "cell_type": "code",
   "execution_count": null,
   "id": "c0c4a332",
   "metadata": {},
   "outputs": [],
   "source": [
    "7. Create a date object of your day of birth."
   ]
  },
  {
   "cell_type": "code",
   "execution_count": 6,
   "id": "21f7e598",
   "metadata": {},
   "outputs": [
    {
     "name": "stdout",
     "output_type": "stream",
     "text": [
      "1994-09-20 00:00:00 <class 'datetime.datetime'>\n"
     ]
    }
   ],
   "source": [
    "from datetime import datetime\n",
    "my_dob = datetime.strptime('20/09/1994','%d/%m/%Y')\n",
    "print(my_dob, type(my_dob))\n"
   ]
  },
  {
   "cell_type": "code",
   "execution_count": null,
   "id": "61e5dba8",
   "metadata": {},
   "outputs": [],
   "source": [
    "8. What day of the week was your day of birth?"
   ]
  },
  {
   "cell_type": "code",
   "execution_count": 7,
   "id": "8c03e2b4",
   "metadata": {},
   "outputs": [
    {
     "data": {
      "text/plain": [
       "'Tuesday'"
      ]
     },
     "execution_count": 7,
     "metadata": {},
     "output_type": "execute_result"
    }
   ],
   "source": [
    "from datetime import datetime\n",
    "my_dob = datetime(1997,4,22)\n",
    "my_dob.strftime(\"%A\")"
   ]
  },
  {
   "cell_type": "code",
   "execution_count": null,
   "id": "8896e9d9",
   "metadata": {},
   "outputs": [],
   "source": [
    "9. When will you be (or when were you) 10,000 days old?"
   ]
  },
  {
   "cell_type": "code",
   "execution_count": 8,
   "id": "28db102c",
   "metadata": {},
   "outputs": [
    {
     "data": {
      "text/plain": [
       "datetime.datetime(1969, 12, 5, 0, 0)"
      ]
     },
     "execution_count": 8,
     "metadata": {},
     "output_type": "execute_result"
    }
   ],
   "source": [
    "from datetime import datetime, timedelta\n",
    "my_dob = datetime.strptime(\"22/04/1997\",'%d/%m/%Y')\n",
    "future_date = my_dob-timedelta(10000)\n",
    "future_date\n"
   ]
  },
  {
   "cell_type": "code",
   "execution_count": null,
   "id": "0efe751d",
   "metadata": {},
   "outputs": [],
   "source": []
  }
 ],
 "metadata": {
  "kernelspec": {
   "display_name": "Python 3 (ipykernel)",
   "language": "python",
   "name": "python3"
  },
  "language_info": {
   "codemirror_mode": {
    "name": "ipython",
    "version": 3
   },
   "file_extension": ".py",
   "mimetype": "text/x-python",
   "name": "python",
   "nbconvert_exporter": "python",
   "pygments_lexer": "ipython3",
   "version": "3.9.12"
  }
 },
 "nbformat": 4,
 "nbformat_minor": 5
}
