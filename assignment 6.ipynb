{
 "cells": [
  {
   "cell_type": "code",
   "execution_count": null,
   "id": "39206947",
   "metadata": {},
   "outputs": [],
   "source": [
    "1. What are escape characters, and how do you use them?"
   ]
  },
  {
   "cell_type": "code",
   "execution_count": 5,
   "id": "fe1c0b60",
   "metadata": {},
   "outputs": [
    {
     "name": "stdout",
     "output_type": "stream",
     "text": [
      "we did't know how much it is\n"
     ]
    }
   ],
   "source": [
    "# Escape character are special symbol defined by backslash() .\n",
    "# which facilitate escape illegal insertion of characters in string.\n",
    "# Eg.\n",
    "st1='we did\\'t know how much it is'\n",
    "print(st1)"
   ]
  },
  {
   "cell_type": "code",
   "execution_count": null,
   "id": "345cc6bf",
   "metadata": {},
   "outputs": [],
   "source": [
    "2. What do the escape characters n and t stand for?"
   ]
  },
  {
   "cell_type": "code",
   "execution_count": 4,
   "id": "105ff95e",
   "metadata": {},
   "outputs": [
    {
     "name": "stdout",
     "output_type": "stream",
     "text": [
      "have a nice day \n",
      " \t we go to study\n"
     ]
    }
   ],
   "source": [
    "# we define n with combination with back slash then it consider as new line \n",
    "# we define t with combination with back slash then it consider as tab \n",
    "str1='have a nice day \\n \\t we go to study'\n",
    "print(str1)"
   ]
  },
  {
   "cell_type": "code",
   "execution_count": null,
   "id": "166482e4",
   "metadata": {},
   "outputs": [],
   "source": [
    "3. What is the way to include backslash characters in a string?"
   ]
  },
  {
   "cell_type": "code",
   "execution_count": 7,
   "id": "d45fd95e",
   "metadata": {},
   "outputs": [
    {
     "name": "stdout",
     "output_type": "stream",
     "text": [
      "we does't know how much it is\n"
     ]
    }
   ],
   "source": [
    "# we have sentance which contain apostroapy in between that can be neglected by backslash\n",
    "str1='we does\\'t know how much it is'\n",
    "print(str1)"
   ]
  },
  {
   "cell_type": "code",
   "execution_count": null,
   "id": "56a252b4",
   "metadata": {},
   "outputs": [],
   "source": [
    "4. The string \"Howl's Moving Castle\" is a correct value. \n",
    "Why isn't the single quote character in theword Howl's not escaped a problem?"
   ]
  },
  {
   "cell_type": "code",
   "execution_count": null,
   "id": "dc4e96e7",
   "metadata": {},
   "outputs": [],
   "source": [
    "str1=\"Howl's Moving Castle\" \n",
    "# in this example we have string difined by double quote but in between their is single quote is acceptable.\n",
    "# for python no need to use escape in this situation\n",
    "str2=Why isn't the single quote character in theword Howl's\n",
    "# in this example we have to handle because string is inclosed by single and in between single quote is present .\n",
    "# python can't interprite that situation we need to handle this by esape "
   ]
  },
  {
   "cell_type": "code",
   "execution_count": null,
   "id": "edfabe7d",
   "metadata": {},
   "outputs": [],
   "source": [
    "5. How do you write a string of newlines if you don't want to use the n character?"
   ]
  },
  {
   "cell_type": "code",
   "execution_count": 13,
   "id": "1c44f650",
   "metadata": {},
   "outputs": [
    {
     "name": "stdout",
     "output_type": "stream",
     "text": [
      "good morning\n",
      "have a nice day\n"
     ]
    }
   ],
   "source": [
    "# we have keyword argument present end in print that hepls us to print new string in new line \n",
    "str1=\"good morning\"\n",
    "str2=\"have a nice day\"\n",
    "print(str1,end='\\n')\n",
    "print(str2)"
   ]
  },
  {
   "cell_type": "code",
   "execution_count": 22,
   "id": "e00e33af",
   "metadata": {},
   "outputs": [
    {
     "name": "stdout",
     "output_type": "stream",
     "text": [
      "good morning \n",
      "have a nice day\n"
     ]
    }
   ],
   "source": [
    "# with using \\n in string\n",
    "str1=\"good morning \\n\"\n",
    "str2=\"have a nice day\"\n",
    "print(str1,end='')\n",
    "print(str2)"
   ]
  },
  {
   "cell_type": "code",
   "execution_count": null,
   "id": "9044358f",
   "metadata": {},
   "outputs": [],
   "source": [
    "6.What are the values of the given expressions?\n",
    "'Hello, world!'[1] \n",
    "'Hello, world!'[0:5]\n",
    "'Hello, world!'[:5] \n",
    "'Hello, world!'[3:]"
   ]
  },
  {
   "cell_type": "code",
   "execution_count": null,
   "id": "faeea70d",
   "metadata": {},
   "outputs": [],
   "source": [
    "# the given expression gives the output as follows\n",
    "'Hello, world!'[1] =output= \"e\"\n",
    "'Hello, world!'[0:5]=output= \"Hello\"\n",
    "'Hello, world!'[:5] =output= \"Hello\"\n",
    "'Hello, world!'[3:]=output= \"io, world!\""
   ]
  },
  {
   "cell_type": "code",
   "execution_count": null,
   "id": "b151dc29",
   "metadata": {},
   "outputs": [],
   "source": [
    "7. What are the values of the following expressions?\n",
    "'Hello'.upper() \n",
    "'Hello'.upper().isupper() \n",
    "'Hello'.upper().lower()"
   ]
  },
  {
   "cell_type": "code",
   "execution_count": null,
   "id": "42e20ea4",
   "metadata": {},
   "outputs": [],
   "source": [
    "# the given expression gives the output as follows\n",
    "'Hello'.upper()            =output =\"HELLO\"\n",
    "'Hello'.upper().isupper()  =output =True\n",
    "'Hello'.upper().lower()    =output ='hello'"
   ]
  },
  {
   "cell_type": "code",
   "execution_count": null,
   "id": "2d0ead43",
   "metadata": {},
   "outputs": [],
   "source": [
    "8. What are the values of the following expressions?\n",
    "'Remember, remember, the fifth of July.'.split() '-'.join('There can only one.'.split())"
   ]
  },
  {
   "cell_type": "code",
   "execution_count": 25,
   "id": "f4c2701e",
   "metadata": {},
   "outputs": [
    {
     "data": {
      "text/plain": [
       "'There-can-only-one.'"
      ]
     },
     "execution_count": 25,
     "metadata": {},
     "output_type": "execute_result"
    }
   ],
   "source": [
    "'Remember, remember, the fifth of July.'.split()\n",
    "'-'.join('There can only one.'.split())"
   ]
  },
  {
   "cell_type": "code",
   "execution_count": null,
   "id": "79a2204f",
   "metadata": {},
   "outputs": [],
   "source": [
    "9. What are the methods for right-justifying, left-justifying, and centering a string?"
   ]
  },
  {
   "cell_type": "code",
   "execution_count": 28,
   "id": "2610efa8",
   "metadata": {},
   "outputs": [
    {
     "name": "stdout",
     "output_type": "stream",
     "text": [
      "original string:           I want to become DataScientist\n",
      "left-justifying string:  I want to become DataScientist##############################\n",
      "rigt-justifying string:  ##############################I want to become DataScientist\n",
      "center-justifying string:  ###############I want to become DataScientist###############\n"
     ]
    }
   ],
   "source": [
    "# ljust(n,filchar) - left-justifiying\n",
    "# rjust(n,filchar) - righ-justifiying\n",
    "# center(n,filchar) - center\n",
    "str1 = 'I want to become DataScientist'\n",
    "print(\"original string:          \",str1)\n",
    "print('left-justifying string: ', str1.ljust(60,'#'))\n",
    "print('rigt-justifying string: ', str1.rjust(60,'#'))\n",
    "print('center-justifying string: ', str1.center(60,'#'))"
   ]
  },
  {
   "cell_type": "code",
   "execution_count": null,
   "id": "1e734ffa",
   "metadata": {},
   "outputs": [],
   "source": [
    "10. What is the best way to remove whitespace characters from the start or end?\n"
   ]
  },
  {
   "cell_type": "code",
   "execution_count": 31,
   "id": "111f047c",
   "metadata": {},
   "outputs": [
    {
     "name": "stdout",
     "output_type": "stream",
     "text": [
      "original string :        ineuron          \n",
      "white space removed stirng: ineuron\n",
      "white space removed at starting: ineuron          \n",
      "white space removed at begining:         ineuron\n"
     ]
    }
   ],
   "source": [
    "# strip() this method used to remove whitespaces both ends of string\n",
    "# rstrip() this method is used to remove whitespaces at the end\n",
    "# lstrip() this method is used to remove whitespaces at the start\n",
    "\n",
    "a= '       ineuron          '\n",
    "print(\"original string :\",a)\n",
    "print('white space removed stirng:',a.strip())\n",
    "print('white space removed at starting:',a.lstrip())\n",
    "print('white space removed at begining: ',a.rstrip())"
   ]
  },
  {
   "cell_type": "code",
   "execution_count": null,
   "id": "8a19eada",
   "metadata": {},
   "outputs": [],
   "source": []
  }
 ],
 "metadata": {
  "kernelspec": {
   "display_name": "Python 3 (ipykernel)",
   "language": "python",
   "name": "python3"
  },
  "language_info": {
   "codemirror_mode": {
    "name": "ipython",
    "version": 3
   },
   "file_extension": ".py",
   "mimetype": "text/x-python",
   "name": "python",
   "nbconvert_exporter": "python",
   "pygments_lexer": "ipython3",
   "version": "3.9.12"
  }
 },
 "nbformat": 4,
 "nbformat_minor": 5
}
