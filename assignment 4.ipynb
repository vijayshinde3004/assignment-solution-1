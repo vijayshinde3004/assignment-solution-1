{
 "cells": [
  {
   "cell_type": "code",
   "execution_count": null,
   "id": "ce8330fa",
   "metadata": {},
   "outputs": [],
   "source": [
    "1. What exactly is []?"
   ]
  },
  {
   "cell_type": "code",
   "execution_count": null,
   "id": "42104b6c",
   "metadata": {},
   "outputs": [],
   "source": [
    "it is used to create a list in  python .it contain different collection of data type sepreted by comma.\n",
    "Various data can be accessed by using index position\n",
    "Eg.\n",
    "[1,2,3,\"ineuron\",4+5j,{4,5,6},[1,2,5]]"
   ]
  },
  {
   "cell_type": "code",
   "execution_count": null,
   "id": "088c17b3",
   "metadata": {},
   "outputs": [],
   "source": [
    "2. In a list of values stored in a variable called spam,  how would you assign the value 'hello' as the third value?\n",
    "(Assume [2, 4, 6, 8, 10] are in spam.)\n"
   ]
  },
  {
   "cell_type": "code",
   "execution_count": 1,
   "id": "3d877693",
   "metadata": {},
   "outputs": [
    {
     "data": {
      "text/plain": [
       "[2, 4, 'hello', 8, 10]"
      ]
     },
     "execution_count": 1,
     "metadata": {},
     "output_type": "execute_result"
    }
   ],
   "source": [
    "spam=[2, 4, 6, 8, 10]\n",
    "spam[2]=\"hello\"\n",
    "spam\n"
   ]
  },
  {
   "cell_type": "code",
   "execution_count": 3,
   "id": "bbcad762",
   "metadata": {},
   "outputs": [],
   "source": [
    "#Let's pretend the spam includes the list ['a','b','c','d'] for the next three queries.\n",
    "spam = ['a','b','c','d']\n",
    "\n"
   ]
  },
  {
   "cell_type": "code",
   "execution_count": null,
   "id": "49d28ef5",
   "metadata": {},
   "outputs": [],
   "source": [
    "#Q3.What is the value of spam[int(int('3' * 2) / 11)]?\n",
    "\n",
    "spam[int(int('33')/11)]\n",
    "spam[int(33/11)]\n",
    "spam[3]\n",
    "ans=\"d\"\n",
    "4. What is the value of spam[-1]?\n",
    "spam[-1]\n",
    "ans=\"d\"\n",
    "5. What is the value of spam[:2]?\n",
    "spam[:2]\n",
    "ans=\"ab\"\n"
   ]
  },
  {
   "cell_type": "code",
   "execution_count": null,
   "id": "7824569b",
   "metadata": {},
   "outputs": [],
   "source": [
    "#Let's pretend bacon has the list [3.14, 'cat',11,'cat' True] for the next three questions."
   ]
  },
  {
   "cell_type": "code",
   "execution_count": 11,
   "id": "f7fdac81",
   "metadata": {},
   "outputs": [
    {
     "data": {
      "text/plain": [
       "1"
      ]
     },
     "execution_count": 11,
     "metadata": {},
     "output_type": "execute_result"
    }
   ],
   "source": [
    "bacon = [3.14,'cat',11,'cat',True]\n",
    "#Q6. What is the value of bacon.index('cat')?\n",
    "bacon.index(\"cat\")\n"
   ]
  },
  {
   "cell_type": "code",
   "execution_count": 12,
   "id": "a008d63a",
   "metadata": {},
   "outputs": [
    {
     "data": {
      "text/plain": [
       "[3.14, 'cat', 11, 'cat', True, 99]"
      ]
     },
     "execution_count": 12,
     "metadata": {},
     "output_type": "execute_result"
    }
   ],
   "source": [
    "#Q7.How does bacon.append(99) change the look of the list value in bacon?\n",
    "bacon = [3.14,'cat',11,'cat',True]\n",
    "bacon.append(99) \n",
    "bacon\n",
    "# append function is used to add an element at end of the list"
   ]
  },
  {
   "cell_type": "code",
   "execution_count": null,
   "id": "6bfa4ec1",
   "metadata": {},
   "outputs": [],
   "source": [
    "Q8. How does bacon.remove('cat') change the look of the list in bacon?"
   ]
  },
  {
   "cell_type": "code",
   "execution_count": 13,
   "id": "18314e44",
   "metadata": {},
   "outputs": [
    {
     "data": {
      "text/plain": [
       "[3.14, 11, 'cat', True]"
      ]
     },
     "execution_count": 13,
     "metadata": {},
     "output_type": "execute_result"
    }
   ],
   "source": [
    "bacon = [3.14,'cat',11,'cat',True]\n",
    "bacon.remove('cat') \n",
    "bacon\n",
    "# it remove first occurance  element from list and gives with remaining element "
   ]
  },
  {
   "cell_type": "markdown",
   "id": "87d3b25b",
   "metadata": {},
   "source": [
    "9. What are the list concatenation and list replication operators?"
   ]
  },
  {
   "cell_type": "code",
   "execution_count": 14,
   "id": "39297c7b",
   "metadata": {},
   "outputs": [
    {
     "name": "stdout",
     "output_type": "stream",
     "text": [
      "[1, 2, 3, 4, 5, 6]\n",
      "[1, 2, 3, 1, 2, 3, 1, 2, 3]\n"
     ]
    }
   ],
   "source": [
    "# List concatenation is done using '+' operator. Here we can combine different lists in list.\n",
    "# Replication is done using '*' operator where in we can replicate a list multiple times\n",
    "a = [1,2,3]\n",
    "b = [4,5,6]\n",
    "\n",
    "c = a + b\n",
    "\n",
    "d = a * 3\n",
    "print(c)\n",
    "print(d)"
   ]
  },
  {
   "cell_type": "code",
   "execution_count": null,
   "id": "b19540db",
   "metadata": {},
   "outputs": [],
   "source": [
    "10. What is difference between the list methods append() and insert()?"
   ]
  },
  {
   "cell_type": "code",
   "execution_count": null,
   "id": "2172339b",
   "metadata": {},
   "outputs": [],
   "source": [
    "append() - this method is used to add an element to a list at the end.\n",
    "insert() - this method is used to add an element at specific index location in a list."
   ]
  },
  {
   "cell_type": "code",
   "execution_count": null,
   "id": "2325eb6d",
   "metadata": {},
   "outputs": [],
   "source": [
    "11. What are the two methods for removing items from a list?"
   ]
  },
  {
   "cell_type": "code",
   "execution_count": null,
   "id": "1c190bbe",
   "metadata": {},
   "outputs": [],
   "source": [
    "remove method is used to remove an first occurence of an element from the list.\n",
    "pop method is used to remove the element in list of specified index.\n",
    "By default it removes last element from the list"
   ]
  },
  {
   "cell_type": "code",
   "execution_count": null,
   "id": "87f1e918",
   "metadata": {},
   "outputs": [],
   "source": [
    "12. Describe how list values and string values are identical."
   ]
  },
  {
   "cell_type": "code",
   "execution_count": null,
   "id": "e5e2317f",
   "metadata": {},
   "outputs": [],
   "source": [
    "# List values and strings are accessible using index values.\n",
    "Eg.\n",
    "l = [1,2,3,4,5]\n",
    "str1 = \"hello\"\n",
    "from list and string we can access the element by using its index position\n",
    "as well as both having length which gives number of element present in list as well in string"
   ]
  },
  {
   "cell_type": "code",
   "execution_count": null,
   "id": "7f88eb00",
   "metadata": {},
   "outputs": [],
   "source": [
    "13.What's the difference between tuples and lists?"
   ]
  },
  {
   "cell_type": "code",
   "execution_count": null,
   "id": "b616ccc7",
   "metadata": {},
   "outputs": [],
   "source": [
    "list and tuple are similar to each other but some are advantages of tuple over list as follows\n",
    "We generally use tuples for heterogeneous (different) data types and lists for homogeneous data types.\n",
    "Since tuples are immutable, iterating through a tuple is faster than with list. So there is a slight performance boost.\n",
    "Tuples that contain immutable elements can be used as a key for a dictionary. With lists, this is not possible.\n",
    "If you have data that doesn't change, implementing it as tuple will guarantee that it remains write-protected."
   ]
  },
  {
   "cell_type": "code",
   "execution_count": null,
   "id": "1ecba0ea",
   "metadata": {},
   "outputs": [],
   "source": [
    "Q14 How do you type a tuple value that only contains the integer 42?"
   ]
  },
  {
   "cell_type": "code",
   "execution_count": 15,
   "id": "5825d8b2",
   "metadata": {},
   "outputs": [
    {
     "data": {
      "text/plain": [
       "tuple"
      ]
     },
     "execution_count": 15,
     "metadata": {},
     "output_type": "execute_result"
    }
   ],
   "source": [
    "#  we can make a tuple with single element by using  comma \n",
    "a=(42,)\n",
    "type(a)"
   ]
  },
  {
   "cell_type": "code",
   "execution_count": null,
   "id": "bf7fdc87",
   "metadata": {},
   "outputs": [],
   "source": [
    "Q15 How do you get a list value's tuple form? How do you get a tuple value's list form?"
   ]
  },
  {
   "cell_type": "code",
   "execution_count": 19,
   "id": "f21e8676",
   "metadata": {},
   "outputs": [
    {
     "name": "stdout",
     "output_type": "stream",
     "text": [
      "[1, 2, 3, 5]\n",
      "(1, 2, 3, 5)\n"
     ]
    }
   ],
   "source": [
    "# we can have option avaliable in python i.e type casting of an datatypes.\n",
    "a=(1,2,3,5)\n",
    "b=list(a)\n",
    "print(b)\n",
    "c=[1,2,3,5]\n",
    "d=tuple(a)\n",
    "print(d)\n",
    "\n"
   ]
  },
  {
   "cell_type": "code",
   "execution_count": null,
   "id": "4d8f4d05",
   "metadata": {},
   "outputs": [],
   "source": [
    "Q16. Variables that \"contain\" list values are not necessarily lists themselves. Instead, what do they contain?"
   ]
  },
  {
   "cell_type": "code",
   "execution_count": null,
   "id": "f00d81d5",
   "metadata": {},
   "outputs": [],
   "source": [
    "Python stores the reference when the data type is mutable.\n",
    "Variables contain the reference of lists instead of having the lists themselves.\n",
    "Eg.\n",
    "list1=[1,2,3,4,5]\n",
    "list1 is a reference of list1"
   ]
  },
  {
   "cell_type": "code",
   "execution_count": null,
   "id": "f9b5f727",
   "metadata": {},
   "outputs": [],
   "source": [
    "17. How do you distinguish between copy.copy() and copy.deepcopy()?"
   ]
  },
  {
   "cell_type": "code",
   "execution_count": null,
   "id": "9e2639d6",
   "metadata": {},
   "outputs": [],
   "source": [
    "copy() function is used to create a copy of the list by copying the reference of the list. \n",
    "So it creates a new reference of list by using the copy function. \n",
    "Changes made in copied list does get reflected in copied list\n",
    "\n",
    "deepcopy() function is used to create the duplicate copy of the list\n",
    ". So here both lists have their own refrence. \n",
    "Changes made in copied list does not get reflected in original list.\n",
    "\n",
    "Below are the example shown-"
   ]
  },
  {
   "cell_type": "code",
   "execution_count": 24,
   "id": "9bd53ee2",
   "metadata": {},
   "outputs": [
    {
     "name": "stdout",
     "output_type": "stream",
     "text": [
      "The original list before copying\n",
      "[2, 3, [100, 200], 99]\n",
      "The new list after copying\n",
      "[2, 3, [300, 200], 99]\n"
     ]
    }
   ],
   "source": [
    "import copy\n",
    "a= [2,3,[100,200],99]\n",
    "print (\"The original list before copying\")\n",
    "print(a)\n",
    "b = copy.copy(a)\n",
    "a[2][0] = 300\n",
    "print (\"The new list after copying\")\n",
    "print(b)"
   ]
  },
  {
   "cell_type": "code",
   "execution_count": 27,
   "id": "9cd42e67",
   "metadata": {},
   "outputs": [
    {
     "name": "stdout",
     "output_type": "stream",
     "text": [
      "The original list before copying\n",
      "[2, 3, [100, 200], 99]\n",
      "The new list after deep copying \n",
      "[345, 3, [100, 200], 99]\n",
      "The original list after deep copying\n",
      "[2, 3, [100, 200], 99]\n"
     ]
    }
   ],
   "source": [
    "import copy\n",
    "a= [2,3,[100,200],99]\n",
    "print (\"The original list before copying\")\n",
    "print(a)\n",
    "b = copy.deepcopy(a) \n",
    "b[0] = 345\n",
    "print (\"The new list after deep copying \")\n",
    "print(b)\n",
    "print (\"The original list after deep copying\")\n",
    "print(a)"
   ]
  },
  {
   "cell_type": "code",
   "execution_count": null,
   "id": "2d32946c",
   "metadata": {},
   "outputs": [],
   "source": []
  },
  {
   "cell_type": "code",
   "execution_count": null,
   "id": "ad17baf9",
   "metadata": {},
   "outputs": [],
   "source": []
  }
 ],
 "metadata": {
  "kernelspec": {
   "display_name": "Python 3 (ipykernel)",
   "language": "python",
   "name": "python3"
  },
  "language_info": {
   "codemirror_mode": {
    "name": "ipython",
    "version": 3
   },
   "file_extension": ".py",
   "mimetype": "text/x-python",
   "name": "python",
   "nbconvert_exporter": "python",
   "pygments_lexer": "ipython3",
   "version": "3.9.12"
  }
 },
 "nbformat": 4,
 "nbformat_minor": 5
}
