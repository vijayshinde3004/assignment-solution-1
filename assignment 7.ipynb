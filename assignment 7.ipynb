{
 "cells": [
  {
   "cell_type": "code",
   "execution_count": null,
   "id": "58abbc75",
   "metadata": {},
   "outputs": [],
   "source": [
    "1. What is the name of the feature responsible for generating Regex objects?"
   ]
  },
  {
   "cell_type": "code",
   "execution_count": 2,
   "id": "43f697c9",
   "metadata": {},
   "outputs": [
    {
     "name": "stdout",
     "output_type": "stream",
     "text": [
      "['a', 'e', 'a', 'i', 'e', 'a', 'a']\n"
     ]
    }
   ],
   "source": [
    "# re.compile() is the feature responsible for generation of Regex objects.\n",
    "# In simple terms, We can compile a regular expression into a regex object to look for occurrences of pattern in given string\n",
    "import re\n",
    "regx= re.compile('[aeiou]')\n",
    "print(regx.findall(\"have a nice a day\"))"
   ]
  },
  {
   "cell_type": "code",
   "execution_count": null,
   "id": "77ce882e",
   "metadata": {},
   "outputs": [],
   "source": [
    "2. Why do raw strings often appear in Regex objects?"
   ]
  },
  {
   "cell_type": "code",
   "execution_count": 3,
   "id": "f25cdffd",
   "metadata": {},
   "outputs": [
    {
     "name": "stdout",
     "output_type": "stream",
     "text": [
      "hello\\nworld\n",
      "hello\n",
      "world\n"
     ]
    }
   ],
   "source": [
    "# In some expressions in python which has backslash with some letters have special meaning.\n",
    "# which is used to which match with matacharacters in python.\n",
    "# to avoid ambiguity we use r'' it will treat as normal string but not give special\n",
    "# importance so that we can get required pattern easily\n",
    "a = r'hello\\nworld'\n",
    "b = 'hello\\nworld'\n",
    "print(a)\n",
    "print(b)"
   ]
  },
  {
   "cell_type": "code",
   "execution_count": null,
   "id": "8185b084",
   "metadata": {},
   "outputs": [],
   "source": [
    "3. What is the return value of the search() method?"
   ]
  },
  {
   "cell_type": "code",
   "execution_count": 5,
   "id": "171478ba",
   "metadata": {},
   "outputs": [
    {
     "data": {
      "text/plain": [
       "'iNeuron'"
      ]
     },
     "execution_count": 5,
     "metadata": {},
     "output_type": "execute_result"
    }
   ],
   "source": [
    "# search(pattern,string) is method which used to get string if match pattern found in string\n",
    "# otherwise it will return exception None\n",
    "import re\n",
    "a = re.search(r'i\\w+n','iNeuron is a best company')\n",
    "a.group() "
   ]
  },
  {
   "cell_type": "code",
   "execution_count": null,
   "id": "6782a1ea",
   "metadata": {},
   "outputs": [],
   "source": [
    "4. From a Match item, how do you get the actual strings that match the pattern?"
   ]
  },
  {
   "cell_type": "code",
   "execution_count": 6,
   "id": "d3b2a788",
   "metadata": {},
   "outputs": [
    {
     "data": {
      "text/plain": [
       "'iNeuron'"
      ]
     },
     "execution_count": 6,
     "metadata": {},
     "output_type": "execute_result"
    }
   ],
   "source": [
    "# For matched string we use group() to return actual string which match match item\n",
    "import re\n",
    "a = re.search(r'i\\w+n','iNeuron is a best company')\n",
    "a.group() "
   ]
  },
  {
   "cell_type": "code",
   "execution_count": null,
   "id": "717d0731",
   "metadata": {},
   "outputs": [],
   "source": [
    "5. In the regex which created from the r'(\\d\\d\\d)-(\\d\\d\\d-\\d\\d\\d\\d)', what does group zero cover? Group 2? Group 1?"
   ]
  },
  {
   "cell_type": "code",
   "execution_count": 7,
   "id": "578c7847",
   "metadata": {},
   "outputs": [
    {
     "name": "stdout",
     "output_type": "stream",
     "text": [
      "125-456-3456\n",
      "125\n",
      "456-3456\n",
      "125-456-3456\n",
      "('125', '456-3456')\n"
     ]
    }
   ],
   "source": [
    "import re\n",
    "a = re.compile(r'(\\d\\d\\d)-(\\d\\d\\d-\\d\\d\\d\\d)')\n",
    "m = a.search('My number is 125-456-3456')\n",
    "print(m.group())\n",
    "print(m.group(1))  # group 1 gives last pattern which in braces\n",
    "print(m.group(2))  # group 2 gives last pattern which in braces\n",
    "print(m.group(0))  #when you give group zero it give whole pattern matches\n",
    "print(m.groups())"
   ]
  },
  {
   "cell_type": "code",
   "execution_count": null,
   "id": "2631d893",
   "metadata": {},
   "outputs": [],
   "source": [
    "6. In standard expression syntax, parentheses and intervals have distinct meanings. \n",
    "How can you tell a regex that you want it to fit real parentheses and periods?"
   ]
  },
  {
   "cell_type": "code",
   "execution_count": 24,
   "id": "eb5b9139",
   "metadata": {},
   "outputs": [
    {
     "name": "stdout",
     "output_type": "stream",
     "text": [
      "(123) 456-7891\n"
     ]
    }
   ],
   "source": [
    "# The \\. \\( and \\) escape characters in the raw string passed to re.compile() will match actual parenthesis characters.\n",
    "# Example Program\n",
    "import re\n",
    "mobileNumRegex = re.compile(r'(\\(\\d\\d\\d\\)) (\\d\\d\\d-\\d\\d\\d\\d)')\n",
    "mo = mobileNumRegex.search('My mobile number is (123) 456-7891.')\n",
    "print(mo.group())"
   ]
  },
  {
   "cell_type": "code",
   "execution_count": null,
   "id": "996a5893",
   "metadata": {},
   "outputs": [],
   "source": [
    "7. The findall() method returns a string list or a list of string tuples. What causes it to return one of the two options?"
   ]
  },
  {
   "cell_type": "code",
   "execution_count": 9,
   "id": "39e4fa9d",
   "metadata": {},
   "outputs": [
    {
     "name": "stdout",
     "output_type": "stream",
     "text": [
      "['423', '12345667']\n"
     ]
    }
   ],
   "source": [
    "# re.search() function will return only the first matched value but re.findall() retuns the list of strings\n",
    "import re\n",
    "regex = '\\d+'\n",
    "st = 'This is murali my number is 423,and my contct 12345667'\n",
    "s = re.findall(regex,st)\n",
    "print(s)"
   ]
  },
  {
   "cell_type": "code",
   "execution_count": null,
   "id": "c98c4527",
   "metadata": {},
   "outputs": [],
   "source": [
    "8. In standard expressions, what does the | character mean?"
   ]
  },
  {
   "cell_type": "code",
   "execution_count": 25,
   "id": "f4ee4dcf",
   "metadata": {},
   "outputs": [
    {
     "name": "stdout",
     "output_type": "stream",
     "text": [
      "['ram', 'iNeuron']\n"
     ]
    }
   ],
   "source": [
    "# | is Or operator it will check for pattern left side as well as right side it will return based on occurence of pattrn\n",
    "reg = 'ram|iNeuron'\n",
    "f = re.findall(reg,'ram is going to study in  iNeuron')\n",
    "print(f)"
   ]
  },
  {
   "cell_type": "code",
   "execution_count": null,
   "id": "c176177e",
   "metadata": {},
   "outputs": [],
   "source": [
    "9. In regular expressions, what does the character? stand for?\n"
   ]
  },
  {
   "cell_type": "code",
   "execution_count": 12,
   "id": "85307348",
   "metadata": {},
   "outputs": [
    {
     "name": "stdout",
     "output_type": "stream",
     "text": [
      "['mano', 'mango']\n"
     ]
    }
   ],
   "source": [
    "# will check string before occurence in the given string once or none\n",
    "import re\n",
    "reg = r'mang?o'\n",
    "f = re.findall(reg,'man has mano and mango with which he can go with man')\n",
    "print(f)"
   ]
  },
  {
   "cell_type": "code",
   "execution_count": null,
   "id": "13275b29",
   "metadata": {},
   "outputs": [],
   "source": [
    "10.In regular expressions, what is the difference between the + and * characters?"
   ]
  },
  {
   "cell_type": "code",
   "execution_count": 13,
   "id": "cbf17b3d",
   "metadata": {},
   "outputs": [
    {
     "name": "stdout",
     "output_type": "stream",
     "text": [
      "abbc ac abbbbbbbc abbbbaa accccb abcc acclarate with + --> ['abbc', 'abbbbbbbc', 'abc']\n",
      "abbc ac abbbbbbbc abbbbaa accccb abcc acclarate with * --> ['abbc', 'ac', 'abbbbbbbc', 'ac', 'abc', 'ac']\n"
     ]
    }
   ],
   "source": [
    "# + will matches one or more occurence in the given string to extract pattern.\n",
    "# * will matches zero or more occurence in the given string to extract pattern.\n",
    "import re\n",
    "reg1 = r'ab+c'\n",
    "reg2 = r'ab*c'\n",
    "st = 'abbc ac abbbbbbbc abbbbaa accccb abcc acclarate'\n",
    "f1 = re.findall(reg1,st)\n",
    "print(f'{st} with + --> {f1}')\n",
    "f2 = re.findall(reg2,st)\n",
    "print(f'{st} with * --> {f2}')"
   ]
  },
  {
   "cell_type": "code",
   "execution_count": null,
   "id": "64a80955",
   "metadata": {},
   "outputs": [],
   "source": [
    "11. What is the difference between {4} and {4,5} in regular expression?"
   ]
  },
  {
   "cell_type": "code",
   "execution_count": 14,
   "id": "3ac2b7b8",
   "metadata": {},
   "outputs": [
    {
     "name": "stdout",
     "output_type": "stream",
     "text": [
      "gi{4}h --> ['giiiih']\n",
      "gi{4,5}h --> ['giiiih', 'giiiiih']\n"
     ]
    }
   ],
   "source": [
    "# {4} means that its preceeding group should repeat 4 times.\n",
    "# where as {4,5} means that its preceeding group should repeat mininum 4 times and maximum 5 times inclusively\n",
    "import re\n",
    "reg1 = r'gi{4}h'\n",
    "reg2 = r'gi{4,5}h'\n",
    "st = 'giiiih giiiiih gih giiiiiiih giiiiiiiih gih giih'\n",
    "e1 = re.findall(reg1,st)\n",
    "print(f'{reg1} --> {e1}')\n",
    "e2 = re.findall(reg2,st)\n",
    "print(f'{reg2} --> {e2}')"
   ]
  },
  {
   "cell_type": "code",
   "execution_count": null,
   "id": "b9bf9d62",
   "metadata": {},
   "outputs": [],
   "source": [
    "12. What do you mean by the \\d, \\w, and \\s shorthand character classes signify in regular expressions?"
   ]
  },
  {
   "cell_type": "code",
   "execution_count": 15,
   "id": "928b3538",
   "metadata": {},
   "outputs": [
    {
     "name": "stdout",
     "output_type": "stream",
     "text": [
      "['908766'] ['I', 'am', 'murali', 'having', 'number', '908766'] [' ', ' ', ' ', ' ', ' ', ' ', ' ']\n"
     ]
    }
   ],
   "source": [
    "# \\d it is special sequece in regex which matches with decimal digits from 0 to 9 [0-9]\n",
    "# \\w it is special sequence in regex which matches any alphanumeric character [a-zA-z0-9]\n",
    "# \\s it is special sequece in regex which matches white spcae character\n",
    "import re \n",
    "reg1 = r'\\d+'\n",
    "reg2 = r'\\w+'\n",
    "reg3 = r'\\s'\n",
    "s = 'I am murali having  number 908766 '\n",
    "t1 = re.findall(reg1,s)\n",
    "t2 = re.findall(reg2,s)\n",
    "t3 = re.findall(reg3,s)\n",
    "print(t1,t2,t3)"
   ]
  },
  {
   "cell_type": "code",
   "execution_count": null,
   "id": "c5d2ad42",
   "metadata": {},
   "outputs": [],
   "source": [
    "13. What do means by \\D, \\W, and \\S shorthand character classes signify in regular expressions?"
   ]
  },
  {
   "cell_type": "code",
   "execution_count": 16,
   "id": "685e1908",
   "metadata": {},
   "outputs": [
    {
     "name": "stdout",
     "output_type": "stream",
     "text": [
      "['I am murali having  number ', ' '] [' ', ' ', ' ', '  ', ' ', ' '] ['I', 'a', 'm', 'm', 'u', 'r', 'a', 'l', 'i', 'h', 'a', 'v', 'i', 'n', 'g', 'n', 'u', 'm', 'b', 'e', 'r', '9', '0', '8', '7', '6', '6']\n"
     ]
    }
   ],
   "source": [
    "# \\D it is special sequece in regex which matches with non decimal digits from 0 to 9 [^0-9]\n",
    "# \\W it is special sequence in regex which matches any non alphanumeric character [^a-zA-z0-9]\n",
    "# \\S it is special sequece in regex which matches non white spcae character\n",
    "import re \n",
    "reg1 = r'\\D+'\n",
    "reg2 = r'\\W+'\n",
    "reg3 = r'\\S'\n",
    "s = 'I am murali having  number 908766 '\n",
    "t1 = re.findall(reg1,s)\n",
    "t2 = re.findall(reg2,s)\n",
    "t3 = re.findall(reg3,s)\n",
    "print(t1,t2,t3)"
   ]
  },
  {
   "cell_type": "code",
   "execution_count": null,
   "id": "4ad316ae",
   "metadata": {},
   "outputs": [],
   "source": [
    "14. What is the difference between *? and .*?"
   ]
  },
  {
   "cell_type": "code",
   "execution_count": null,
   "id": "3e096031",
   "metadata": {},
   "outputs": [],
   "source": [
    "* is a Greedy mode, which returns the longest string that meets the condition. Whereas .\n",
    "*? is a non greedy mode which returns the shortest string that meets the condition."
   ]
  },
  {
   "cell_type": "code",
   "execution_count": null,
   "id": "59e800c4",
   "metadata": {},
   "outputs": [],
   "source": [
    "15. What is the syntax for matching both numbers and lowercase letters with a character class?"
   ]
  },
  {
   "cell_type": "code",
   "execution_count": null,
   "id": "0eed9b83",
   "metadata": {},
   "outputs": [],
   "source": [
    "The syntax for matching numbers and lower is [0-9a-z] or [a-z0-9]"
   ]
  },
  {
   "cell_type": "code",
   "execution_count": null,
   "id": "3cee22b2",
   "metadata": {},
   "outputs": [],
   "source": [
    "16. What is the procedure for making a normal expression in regax case insensitive?"
   ]
  },
  {
   "cell_type": "code",
   "execution_count": null,
   "id": "84e92fb3",
   "metadata": {},
   "outputs": [],
   "source": [
    "re.IGNORECASE will make normal expression regax case insensitive"
   ]
  },
  {
   "cell_type": "code",
   "execution_count": null,
   "id": "cc643c82",
   "metadata": {},
   "outputs": [],
   "source": [
    "17. What does the . character normally match? What does it match if re.DOTALL is passed as 2nd argument in re.compile()?"
   ]
  },
  {
   "cell_type": "code",
   "execution_count": null,
   "id": "515c41e7",
   "metadata": {},
   "outputs": [],
   "source": [
    "will match only single character except for new line character. \n",
    "by passing re.DOTALL as second argument in re.compile() we make all dot character pass along with new line character\n"
   ]
  },
  {
   "cell_type": "code",
   "execution_count": null,
   "id": "a9b45225",
   "metadata": {},
   "outputs": [],
   "source": [
    "18.If numReg = re.compile(r'\\d+'), what will numRegex.sub('X', '11 drummers, 10 pipers, five rings, 4 hen') return?"
   ]
  },
  {
   "cell_type": "code",
   "execution_count": 17,
   "id": "c93eb5a8",
   "metadata": {},
   "outputs": [
    {
     "name": "stdout",
     "output_type": "stream",
     "text": [
      "X drummers, X pipers, five rings, X hen\n"
     ]
    }
   ],
   "source": [
    "import re\n",
    "numReg = re.compile(r'\\d+')\n",
    "s = numReg.sub('X','11 drummers, 10 pipers, five rings, 4 hen')\n",
    "print(s)"
   ]
  },
  {
   "cell_type": "code",
   "execution_count": null,
   "id": "006f3545",
   "metadata": {},
   "outputs": [],
   "source": [
    "19. What does passing re.VERBOSE as the 2nd argument to re.compile() allow to do?"
   ]
  },
  {
   "cell_type": "code",
   "execution_count": null,
   "id": "34208478",
   "metadata": {},
   "outputs": [],
   "source": [
    "# Without Using VERBOSE\n",
    "regex_email = re.compile(r'^([a-z0-9_\\.-]+)@([0-9a-z\\.-]+)\\.([a-z\\.]{2, 6})$', re.IGNORECASE)\n",
    " \n",
    "# Using VERBOSE\n",
    "regex_email = re.compile(r\"\"\"\n",
    "                            ^([a-z0-9_\\.-]+)              # local Part like username\n",
    "                            @                             # single @ sign \n",
    "                            ([0-9a-z\\.-]+)                # Domain name like google\n",
    "                            \\.                            # single Dot .\n",
    "                            ([a-z]{2,6})$                 # Top level Domain  like com/in/org\n",
    "                         \"\"\",re.VERBOSE | re.IGNORECASE)  "
   ]
  },
  {
   "cell_type": "code",
   "execution_count": null,
   "id": "150c014a",
   "metadata": {},
   "outputs": [],
   "source": [
    "20. How would you write a regex that match a number with comma for every three digits? It must match the given following"
   ]
  },
  {
   "cell_type": "code",
   "execution_count": 18,
   "id": "a4ec09fc",
   "metadata": {},
   "outputs": [
    {
     "name": "stdout",
     "output_type": "stream",
     "text": [
      "Output: 42 -> <re.Match object; span=(0, 2), match='42'>\n",
      "Output: 1,234 -> <re.Match object; span=(0, 5), match='1,234'>\n",
      "Output: 6,368,745 -> <re.Match object; span=(0, 9), match='6,368,745'>\n",
      "Output: 12,34,567 -> None\n",
      "Output: 1234 -> None\n"
     ]
    }
   ],
   "source": [
    "import re\n",
    "pattern = r'^\\d{1,3}(,\\d{3})*$'\n",
    "pagex = re.compile(pattern)\n",
    "for ele in ['42','1,234', '6,368,745','12,34,567','1234']:\n",
    "    print('Output:',ele, '->', pagex.search(ele))"
   ]
  },
  {
   "cell_type": "code",
   "execution_count": null,
   "id": "d6213338",
   "metadata": {},
   "outputs": [],
   "source": [
    "21. How would you write a regex that matches the full name of someone whose last name isWatanabe?\n",
    "You can assume that the first name that comes before it will always be one word that begins with a capital letter."
   ]
  },
  {
   "cell_type": "code",
   "execution_count": 20,
   "id": "4cf4d979",
   "metadata": {},
   "outputs": [
    {
     "name": "stdout",
     "output_type": "stream",
     "text": [
      "Output:  Haruto Watanabe -> <re.Match object; span=(0, 15), match='Haruto Watanabe'>\n",
      "Output:  Alice Watanabe -> <re.Match object; span=(0, 14), match='Alice Watanabe'>\n",
      "Output:  RoboCop Watanabe -> <re.Match object; span=(0, 16), match='RoboCop Watanabe'>\n",
      "Output:  haruto Watanabe -> None\n",
      "Output:  Mr. Watanabe -> None\n",
      "Output:  Watanabe -> None\n",
      "Output:  Haruto watanabe -> None\n"
     ]
    }
   ],
   "source": [
    "import re\n",
    "pat = r'^[A-Z]\\w+\\sWatanabe'\n",
    "pagex = re.compile(pat)\n",
    "for name in ['Haruto Watanabe','Alice Watanabe','RoboCop Watanabe','haruto Watanabe','Mr. Watanabe','Watanabe','Haruto watanabe']:\n",
    "    print('Output: ',name,'->',pagex.search(name))"
   ]
  },
  {
   "cell_type": "code",
   "execution_count": null,
   "id": "16abfbfe",
   "metadata": {},
   "outputs": [],
   "source": [
    "22. How would you write a regex that matches a sentence where the first word is either Alice, Bob, or Carol;\n",
    "the second word is either eats, pets, or throws; \n",
    "the third word is apples, cats, or baseballs; \n",
    "and the sentence ends with a period? \n",
    "This regex should be case-insensitive."
   ]
  },
  {
   "cell_type": "code",
   "execution_count": 23,
   "id": "3cfb6139",
   "metadata": {},
   "outputs": [
    {
     "name": "stdout",
     "output_type": "stream",
     "text": [
      "Output:  Alice eats apples. -> <re.Match object; span=(0, 10), match='Carol eats'>\n",
      "Output:  Bob pets cats. -> <re.Match object; span=(0, 10), match='Carol eats'>\n",
      "Output:  Carol throws baseballs. -> <re.Match object; span=(0, 10), match='Carol eats'>\n",
      "Output:  Alice throws Apples. -> <re.Match object; span=(0, 10), match='Carol eats'>\n",
      "Output:  BOB EATS CATS. -> <re.Match object; span=(0, 10), match='Carol eats'>\n",
      "Output:  RoboCop eats apples. -> <re.Match object; span=(0, 10), match='Carol eats'>\n",
      "Output:  ALICE THROWS FOOTBALLS. -> <re.Match object; span=(0, 10), match='Carol eats'>\n",
      "Output:  Carol eats 7 cats. -> <re.Match object; span=(0, 10), match='Carol eats'>\n"
     ]
    }
   ],
   "source": [
    "import re \n",
    "pat = r'Alice|Bob|Carol\\seats|pets|throws\\sapples|cats|baseballs'\n",
    "wordx = re.compile(pat,re.IGNORECASE)\n",
    "for i in ['Alice eats apples.','Bob pets cats.','Carol throws baseballs.','Alice throws Apples.','BOB EATS CATS.','RoboCop eats apples.'\n",
    ",'ALICE THROWS FOOTBALLS.','Carol eats 7 cats.']:\n",
    "    print('Output: ',i,'->',wordx.search(ele))"
   ]
  },
  {
   "cell_type": "code",
   "execution_count": null,
   "id": "7d6e1b98",
   "metadata": {},
   "outputs": [],
   "source": []
  }
 ],
 "metadata": {
  "kernelspec": {
   "display_name": "Python 3 (ipykernel)",
   "language": "python",
   "name": "python3"
  },
  "language_info": {
   "codemirror_mode": {
    "name": "ipython",
    "version": 3
   },
   "file_extension": ".py",
   "mimetype": "text/x-python",
   "name": "python",
   "nbconvert_exporter": "python",
   "pygments_lexer": "ipython3",
   "version": "3.9.12"
  }
 },
 "nbformat": 4,
 "nbformat_minor": 5
}
