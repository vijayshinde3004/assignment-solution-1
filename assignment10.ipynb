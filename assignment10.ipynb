{
 "cells": [
  {
   "cell_type": "code",
   "execution_count": null,
   "id": "fda8890b",
   "metadata": {},
   "outputs": [],
   "source": [
    "1. How do you distinguish between shutil.copy() and shutil.copytree()?"
   ]
  },
  {
   "cell_type": "code",
   "execution_count": null,
   "id": "b5149880",
   "metadata": {},
   "outputs": [],
   "source": [
    "shutil.copy() method in python used to copy the content of source file to destination, \n",
    "here desination can be any thing like file or directory.\n",
    "Syntax: shutil.copy(src,dst)\n",
    "shutils.copytree() method in python used to copy enitre source directory to desination directory \n",
    "here destionation must be directory.\n",
    "Syntax: shutil.copy(src,dst)"
   ]
  },
  {
   "cell_type": "code",
   "execution_count": null,
   "id": "fbd65124",
   "metadata": {},
   "outputs": [],
   "source": [
    "2. What function is used to rename files??"
   ]
  },
  {
   "cell_type": "code",
   "execution_count": null,
   "id": "20ad6e48",
   "metadata": {},
   "outputs": [],
   "source": [
    "os.rename() method in python used to rename file or directory. \n",
    "here we have src and dst parameters, source is name of original file and dst is name to be changed"
   ]
  },
  {
   "cell_type": "code",
   "execution_count": null,
   "id": "66d84d7d",
   "metadata": {},
   "outputs": [],
   "source": [
    "3. What is the difference between the delete functions in the send2trash and shutil modules?"
   ]
  },
  {
   "cell_type": "code",
   "execution_count": null,
   "id": "c686bd7e",
   "metadata": {},
   "outputs": [],
   "source": [
    "Shutil module provides a funciton called as shutil.rmtree() which deletes a directory and all of its contents. The other functions with similar functionality are os.remove() which removes a file. os.rmdir() removes a empty directory. The problem with these functions is once a file is deleted. it will be lost permanently and if a file is deleted accidentally using these methods there is no way we can recover the deleted file\n",
    "Where as send2trash module provides a function called send2trash.send2trash() to delete a file/directory. \n",
    "These methods moves the files/directories to trash folder instead of permanently deleting them.\n",
    "Hence if a file/folder is deleted accidentally using the send2trash.\n",
    "send2trash() it can be still recovered from trash folder.\n",
    "send2trash is not included with python standard libary like os & shutil modules.\n",
    "So, it needs to be installed explicitly using the command !pip install send2trash"
   ]
  },
  {
   "cell_type": "code",
   "execution_count": null,
   "id": "0c3c8e45",
   "metadata": {},
   "outputs": [],
   "source": [
    "4.ZipFile objects have a close() method just like File objects’ close() method. What ZipFile method is\n",
    "equivalent to File objects’ open() method?"
   ]
  },
  {
   "cell_type": "code",
   "execution_count": null,
   "id": "5fa80706",
   "metadata": {},
   "outputs": [],
   "source": [
    "ZipFile Module provides a method called as zipfile.ZipFile() to read and write to zipFiles.\n",
    "it takes arugments such as filename and mode etc zipfile.ZipFile('filename', mode = 'r')"
   ]
  },
  {
   "cell_type": "code",
   "execution_count": null,
   "id": "140bdcd2",
   "metadata": {},
   "outputs": [],
   "source": [
    "5. Create a programme that searches a folder tree for files with a certain file extension (such as .pdf\n",
    "or .jpg). Copy these files from whatever location they are in to a new folder."
   ]
  },
  {
   "cell_type": "code",
   "execution_count": null,
   "id": "76005b3b",
   "metadata": {},
   "outputs": [],
   "source": [
    "import os\n",
    "import shutil\n",
    "\n",
    "def search_copy(source,destination,extensions):\n",
    "    source = os.path.abspath(source)\n",
    "    destination = os.path.abspath(destination)\n",
    "    for foldername, subfolder, filenames in os.walk(source):\n",
    "        print(f'Folder Name ➞ {foldername}',end='\\n\\n')\n",
    "        print(f'Sub Folders ➞ {subfolder}',end='\\n\\n')\n",
    "        print(f'Files ➞ {filenames}',end='\\n\\n')\n",
    "        for filename in filenames:\n",
    "            fileName,extension = os.path.splitext(filename)\n",
    "            if extension in extensions:\n",
    "                targetFile = foldername+os.path.sep+fileName+extension\n",
    "                shutil.copy(targetFile, destination)\n",
    "        print(f'Files copied successfully from {source} to {destination}')\n",
    "    \n",
    "extensions = ['.pdf','.jpg','.ipynb']\n",
    "source = 'Source Folder'\n",
    "destination = 'Destination Folder'\n",
    "search_copy(source, destination, extensions)"
   ]
  }
 ],
 "metadata": {
  "kernelspec": {
   "display_name": "Python 3 (ipykernel)",
   "language": "python",
   "name": "python3"
  },
  "language_info": {
   "codemirror_mode": {
    "name": "ipython",
    "version": 3
   },
   "file_extension": ".py",
   "mimetype": "text/x-python",
   "name": "python",
   "nbconvert_exporter": "python",
   "pygments_lexer": "ipython3",
   "version": "3.9.12"
  }
 },
 "nbformat": 4,
 "nbformat_minor": 5
}
