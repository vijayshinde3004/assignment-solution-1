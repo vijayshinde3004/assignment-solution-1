{
 "cells": [
  {
   "cell_type": "markdown",
   "id": "8d4676d3",
   "metadata": {},
   "source": [
    "1. Why are functions advantageous to have in your programs?"
   ]
  },
  {
   "cell_type": "code",
   "execution_count": null,
   "id": "5bfa486f",
   "metadata": {},
   "outputs": [],
   "source": [
    "mostly functions are used to perfrom specific task but we require to perform  similar kind of task then u require to write\n",
    "a code again but function helps without writing a code again we called the function and perform specific task this is advantage of function over \n",
    "program"
   ]
  },
  {
   "cell_type": "markdown",
   "id": "94314f68",
   "metadata": {},
   "source": [
    "When does the code in a function run: when it's specified or when it's called?"
   ]
  },
  {
   "cell_type": "code",
   "execution_count": null,
   "id": "9878c77a",
   "metadata": {},
   "outputs": [],
   "source": [
    "we reuire to perform the specific task defined in function.Then the function is called to perform a specific task.\n",
    "when fuction name called it performs specific task and returns the the output\n"
   ]
  },
  {
   "cell_type": "markdown",
   "id": "50e28d03",
   "metadata": {},
   "source": [
    "3. What statement creates a function?"
   ]
  },
  {
   "cell_type": "code",
   "execution_count": null,
   "id": "9fafe5b0",
   "metadata": {},
   "outputs": [],
   "source": [
    "def keyword is used to create a function and we start with def kayword followed by function name ends with colon\n",
    " eg.\n",
    "    def addtion():\n",
    "        \n",
    "    we can see in above example function can defined by def kayword with addition is a function name"
   ]
  },
  {
   "cell_type": "markdown",
   "id": "07a40355",
   "metadata": {},
   "source": [
    "4. What is the difference between a function and a function call?"
   ]
  },
  {
   "cell_type": "code",
   "execution_count": null,
   "id": "8019735e",
   "metadata": {},
   "outputs": [],
   "source": [
    "function its line of code that does a perticular operation and return the result .\n",
    "most of cases its accept the input as parameter and return the output\n",
    "function call is used to pass control to function"
   ]
  },
  {
   "cell_type": "markdown",
   "id": "d1b2b999",
   "metadata": {},
   "source": [
    "5. How many global scopes are there in a Python program? How many local scopes?"
   ]
  },
  {
   "cell_type": "code",
   "execution_count": null,
   "id": "84116140",
   "metadata": {},
   "outputs": [],
   "source": [
    " if a variable is declared in global scope it remain available throughout the program.\n",
    "\n",
    "If a variable is defined in a function then it can be accessed only within that function and cannot be used outside that program.\n",
    "\n",
    "Now same variable name can be defined inside different functions and so those has scope inside only those functions."
   ]
  },
  {
   "cell_type": "markdown",
   "id": "71addfd1",
   "metadata": {},
   "source": [
    "6. What happens to variables in a local scope when the function call returns?"
   ]
  },
  {
   "cell_type": "code",
   "execution_count": null,
   "id": "6ad7ff9b",
   "metadata": {},
   "outputs": [],
   "source": [
    "Local variable scope is limited to the funnction in which it is defined. \n",
    "So it is not accessible outside the function and it is destroyed once the control comes out of fucntion."
   ]
  },
  {
   "cell_type": "markdown",
   "id": "35a467d3",
   "metadata": {},
   "source": [
    "7. What is the concept of a return value? Is it possible to have a return value in an expression?"
   ]
  },
  {
   "cell_type": "code",
   "execution_count": null,
   "id": "be342bff",
   "metadata": {},
   "outputs": [],
   "source": [
    "The return statement is used to exit a function and go back to the place from where it was called.\n",
    "This statement can contain an expression that gets evaluated and the value is returned.\n",
    "If there is no expression in the statement or the return statement itself is not present inside a function,\n",
    "then the function will return the None object."
   ]
  },
  {
   "cell_type": "markdown",
   "id": "8ebeed8a",
   "metadata": {},
   "source": [
    "8. If a function does not have a return statement, what is the return value of a call to that function?"
   ]
  },
  {
   "cell_type": "code",
   "execution_count": null,
   "id": "42078a59",
   "metadata": {},
   "outputs": [],
   "source": [
    "if the return statement is not in function ,it returns none when it called"
   ]
  },
  {
   "cell_type": "markdown",
   "id": "386b17a5",
   "metadata": {},
   "source": [
    "9. How do you make a function variable refer to the global variable?"
   ]
  },
  {
   "cell_type": "code",
   "execution_count": null,
   "id": "8e5ef549",
   "metadata": {},
   "outputs": [],
   "source": [
    "variable defined with global keyword then the variable called as global variable. it can be accessed outside the fuction"
   ]
  },
  {
   "cell_type": "markdown",
   "id": "1d25508f",
   "metadata": {},
   "source": [
    "10. What is the data type of None?"
   ]
  },
  {
   "cell_type": "code",
   "execution_count": null,
   "id": "c56fece5",
   "metadata": {},
   "outputs": [],
   "source": [
    "data type of None is Nonetype"
   ]
  },
  {
   "cell_type": "code",
   "execution_count": null,
   "id": "a1a51628",
   "metadata": {},
   "outputs": [],
   "source": [
    "11. What does the sentence import are allyourpetsnamederic do?"
   ]
  },
  {
   "cell_type": "code",
   "execution_count": null,
   "id": "4565fa7f",
   "metadata": {},
   "outputs": [],
   "source": [
    "import statement is used to import the existing module in current code.\n",
    "Since the modules are already prepared by someone with a functionality and we want to use same functionality in our code,\n",
    "we can use import statement.\n",
    "import areallyourpetsnamederic is used to import the functionalities present in areallyourpetsnamederic module\n",
    "to our code and use the functions/varibales present in this in our logic."
   ]
  },
  {
   "cell_type": "markdown",
   "id": "550c5c14",
   "metadata": {},
   "source": [
    "12. If you had a bacon() feature in a spam module, what would you call it after importing spam?"
   ]
  },
  {
   "cell_type": "code",
   "execution_count": null,
   "id": "ef1e9cd7",
   "metadata": {},
   "outputs": [],
   "source": [
    "we need to use the statement spam.bacon() to use this function in our code"
   ]
  },
  {
   "cell_type": "code",
   "execution_count": null,
   "id": "ebe60521",
   "metadata": {},
   "outputs": [],
   "source": [
    "13. What can you do to save a programme from crashing if it encounters an error?\n"
   ]
  },
  {
   "cell_type": "code",
   "execution_count": null,
   "id": "13ddd4fd",
   "metadata": {},
   "outputs": [],
   "source": [
    "To save a program from crashing \n",
    "we can put the code in try except block and catch the exception and do the proper error handling\n",
    "try and except block handels the error in code written in try and except block ,"
   ]
  },
  {
   "cell_type": "code",
   "execution_count": null,
   "id": "27f37159",
   "metadata": {},
   "outputs": [],
   "source": [
    "14. What is the purpose of the try clause? What is the purpose of the except clause?"
   ]
  },
  {
   "cell_type": "code",
   "execution_count": null,
   "id": "6be17445",
   "metadata": {},
   "outputs": [],
   "source": [
    "The critical operation which can raise an exception is placed inside the try clause.\n",
    "The code that handles the exceptions is written in the except clause.\n",
    "except clause is used to catch the exceptions which can be thrown by the code in try block.\n",
    "We can mention differnt type of exceptions in excelpt clause and can gracefully terminate the code"
   ]
  },
  {
   "cell_type": "code",
   "execution_count": null,
   "id": "1e57b1e8",
   "metadata": {},
   "outputs": [],
   "source": []
  }
 ],
 "metadata": {
  "kernelspec": {
   "display_name": "Python 3 (ipykernel)",
   "language": "python",
   "name": "python3"
  },
  "language_info": {
   "codemirror_mode": {
    "name": "ipython",
    "version": 3
   },
   "file_extension": ".py",
   "mimetype": "text/x-python",
   "name": "python",
   "nbconvert_exporter": "python",
   "pygments_lexer": "ipython3",
   "version": "3.9.12"
  }
 },
 "nbformat": 4,
 "nbformat_minor": 5
}
