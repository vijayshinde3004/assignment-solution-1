{
 "cells": [
  {
   "cell_type": "code",
   "execution_count": null,
   "id": "cb182210",
   "metadata": {},
   "outputs": [],
   "source": [
    "1. To what does a relative path refer?"
   ]
  },
  {
   "cell_type": "code",
   "execution_count": null,
   "id": "56bc4a2f",
   "metadata": {},
   "outputs": [],
   "source": [
    "A relative path refers to a location that is relative to a current working directory.\n",
    "if we consider to bet test.txt in the given path C:\\Documents\\PythonProjects\\myproject\\test.txt \n",
    "here C:\\Documents\\PythonProjects is working directory and reamaining myproject\\test.txt are relative paths"
   ]
  },
  {
   "cell_type": "code",
   "execution_count": null,
   "id": "9cb48339",
   "metadata": {},
   "outputs": [],
   "source": [
    "2. What does an absolute path start with your operating system?"
   ]
  },
  {
   "cell_type": "code",
   "execution_count": null,
   "id": "ebd21059",
   "metadata": {},
   "outputs": [],
   "source": [
    " In Windows the absolue path starts with C:\\ and in Linux path starts with /"
   ]
  },
  {
   "cell_type": "code",
   "execution_count": null,
   "id": "0d95bbdc",
   "metadata": {},
   "outputs": [],
   "source": [
    "3. What do the functions os.getcwd() and os.chdir() do?"
   ]
  },
  {
   "cell_type": "code",
   "execution_count": null,
   "id": "49c530ad",
   "metadata": {},
   "outputs": [],
   "source": [
    "os.getcwd() - getcwd will returns the current working directory\n",
    "os.chdir(path) - chdir will chage the path from curren working directory"
   ]
  },
  {
   "cell_type": "code",
   "execution_count": null,
   "id": "4b644c47",
   "metadata": {},
   "outputs": [],
   "source": [
    "4. What are the . and .. folders?"
   ]
  },
  {
   "cell_type": "code",
   "execution_count": 1,
   "id": "5a0228f4",
   "metadata": {},
   "outputs": [
    {
     "name": "stdout",
     "output_type": "stream",
     "text": [
      "C:\\Users\\LENOVO\\ineuron\\inueron assignments solved\n"
     ]
    }
   ],
   "source": [
    "import os\n",
    "print(os.getcwd())"
   ]
  },
  {
   "cell_type": "code",
   "execution_count": 3,
   "id": "a455e5a1",
   "metadata": {},
   "outputs": [
    {
     "name": "stdout",
     "output_type": "stream",
     "text": [
      "C:\\Users\\LENOVO\\ineuron\\inueron assignments solved\n"
     ]
    }
   ],
   "source": [
    "os.chdir(r'C:\\Users\\LENOVO\\ineuron\\inueron assignments solved')\n",
    "print(os.getcwd())"
   ]
  },
  {
   "cell_type": "code",
   "execution_count": null,
   "id": "f882f6a3",
   "metadata": {},
   "outputs": [],
   "source": [
    "5. In C:\\bacon\\eggs\\spam.txt, which part is the dir name, and which part is the base name?"
   ]
  },
  {
   "cell_type": "code",
   "execution_count": 5,
   "id": "3b05a883",
   "metadata": {},
   "outputs": [
    {
     "name": "stdout",
     "output_type": "stream",
     "text": [
      "C:\\bacon\\eggs\n",
      "spam.txt\n"
     ]
    }
   ],
   "source": [
    "# Represents the Current Directory Whereas .. Represents the Parent Directory of the Current Directory\n",
    "# C:\\Users\\HP\\Documents\\python-practice\\Assignment-Folder is the we can refer by .\n",
    "# C:\\Users\\HP\\Documents\\python-practice we can move to parent directory by given ..\n",
    "# C:\\bacon\\egg is directory name\n",
    "#     spam.txt is basename\n",
    "import os\n",
    "path = r'C:\\bacon\\eggs\\spam.txt'\n",
    "print(os.path.dirname(path))\n",
    "print(os.path.basename(path))"
   ]
  },
  {
   "cell_type": "code",
   "execution_count": null,
   "id": "6cae53c9",
   "metadata": {},
   "outputs": [],
   "source": [
    "6. What are the three “mode” arguments that can be passed to the open() function?"
   ]
  },
  {
   "cell_type": "code",
   "execution_count": null,
   "id": "023fec34",
   "metadata": {},
   "outputs": [],
   "source": [
    " A file can be Accessed in python using open() function.\n",
    "Open function takes two arguments filename and mode of operation (optional).\n",
    "If mode is not provided, the default mode of opening is Read mode. So, the syntax is: open(filename, mode)\n",
    "\n",
    "‘r’ – Read Mode: This is the default mode for open(). \n",
    "    The file is opened and a pointer is positioned at the beginning of the file’s content.\n",
    "\n",
    "‘w’ – Write Mode: Using this mode will overwrite any existing content in a file. \n",
    "    If the given file does not exist, a new one will be created.\n",
    "\n",
    "‘r+’ – Read/Write Mode: Use this mode if you need to simultaneously read and write to a file.\n",
    "\n",
    "‘a’ – Append Mode: With this mode the user can append the data without overwriting any already existing data in the file.\n",
    "\n",
    "‘a+’ – Append and Read Mode: In this mode you can read and append the data without overwriting the original file.\n",
    "\n",
    "‘x’ – Exclusive Creating Mode: This mode is for the sole purpose of creating new files.\n",
    "    Use this mode if you know the file to be written doesn’t exist beforehand."
   ]
  },
  {
   "cell_type": "code",
   "execution_count": null,
   "id": "1f2cde03",
   "metadata": {},
   "outputs": [],
   "source": [
    "7. What happens if an existing file is opened in write mode?"
   ]
  },
  {
   "cell_type": "code",
   "execution_count": null,
   "id": "37cda1af",
   "metadata": {},
   "outputs": [],
   "source": [
    "Using this mode, we can overwrite any existing content in a file.\n",
    "If the given file does not exist then a new one will be created."
   ]
  },
  {
   "cell_type": "code",
   "execution_count": null,
   "id": "725cf95e",
   "metadata": {},
   "outputs": [],
   "source": [
    "8. How do you tell the difference between read() and readlines()?"
   ]
  },
  {
   "cell_type": "code",
   "execution_count": null,
   "id": "d7ab432a",
   "metadata": {},
   "outputs": [],
   "source": [
    "read() file operation which returns whole data in file as a string.\n",
    "readlines() - it file operation which returns whole date in list of strings."
   ]
  },
  {
   "cell_type": "code",
   "execution_count": null,
   "id": "399bd938",
   "metadata": {},
   "outputs": [],
   "source": [
    "9. What data structure does a shelf value resemble?"
   ]
  },
  {
   "cell_type": "code",
   "execution_count": null,
   "id": "ed4d4f82",
   "metadata": {},
   "outputs": [],
   "source": [
    "A shelf value resembles a dictionary value; \n",
    "it has keys and values, along with keys() and values() methods that work similarly to the dictionary methods of the same names."
   ]
  }
 ],
 "metadata": {
  "kernelspec": {
   "display_name": "Python 3 (ipykernel)",
   "language": "python",
   "name": "python3"
  },
  "language_info": {
   "codemirror_mode": {
    "name": "ipython",
    "version": 3
   },
   "file_extension": ".py",
   "mimetype": "text/x-python",
   "name": "python",
   "nbconvert_exporter": "python",
   "pygments_lexer": "ipython3",
   "version": "3.9.12"
  }
 },
 "nbformat": 4,
 "nbformat_minor": 5
}
