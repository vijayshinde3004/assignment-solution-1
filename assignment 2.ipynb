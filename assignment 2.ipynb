{
 "cells": [
  {
   "cell_type": "markdown",
   "id": "91327361",
   "metadata": {},
   "source": [
    "1.What are the two values of the Boolean data type? How do you write them?"
   ]
  },
  {
   "cell_type": "code",
   "execution_count": null,
   "id": "47084d8e",
   "metadata": {},
   "outputs": [],
   "source": [
    "Their is two bollean values True and False \n",
    "it can be written with first letter capital=True and False\n"
   ]
  },
  {
   "cell_type": "markdown",
   "id": "146ee608",
   "metadata": {},
   "source": [
    "2. What are the three different types of Boolean operators?"
   ]
  },
  {
   "cell_type": "code",
   "execution_count": null,
   "id": "684a99ae",
   "metadata": {},
   "outputs": [],
   "source": [
    "Boolean operator is used to check the multiple condition at once\n",
    "three types \n",
    "1.AND = when all condition will be true then the expression is True \n",
    "2.OR= Either one of the condition will be True then expression is True \n",
    "3.NOT = it is used to neglect something from given condition "
   ]
  },
  {
   "cell_type": "markdown",
   "id": "7fe0851b",
   "metadata": {},
   "source": [
    "\n",
    "3. Make a list of each Boolean operator&#39;s truth tables (i.e. every possible combination of Boolean\n",
    "values for the operator and what it evaluate )."
   ]
  },
  {
   "cell_type": "code",
   "execution_count": null,
   "id": "6dd97999",
   "metadata": {},
   "outputs": [],
   "source": [
    "AND operator\n",
    "condition 1    condition 2 result\n",
    "0 0  False\n",
    "1 0  False\n",
    "0 1  False\n",
    "1 1  True\n",
    "\n",
    "OR operator \n",
    "condition 1    condition 2 result\n",
    "0 0  False\n",
    "1 0  True\n",
    "0 1  True\n",
    "1 1  True\n",
    "\n",
    "NOT operator\n",
    "condition result\n",
    "True False\n",
    "False True"
   ]
  },
  {
   "cell_type": "markdown",
   "id": "dd090a2e",
   "metadata": {},
   "source": [
    "4. What are the values of the following expressions?\n",
    "(5 &gt; 4) and (3 == 5)\n",
    "not (5 &gt; 4)\n",
    "(5 &gt; 4) or (3 == 5)\n",
    "not ((5 &gt; 4) or (3 == 5))\n",
    "(True and True) and (True == False)\n",
    "(not False) or (not True)"
   ]
  },
  {
   "cell_type": "code",
   "execution_count": null,
   "id": "702ddd55",
   "metadata": {},
   "outputs": [],
   "source": [
    "1.(5 > 4) and (3 == 5)                     - False\n",
    "2.not (5 > 4)                              - False\n",
    "3.(5 > 4) or (3 == 5)                      -True          \n",
    "4.not ((5 > 4) or (3 == 5))                -False\n",
    "5.(True and True) and (True == False)      -False\n",
    "6.(not False) or (not True)                -True"
   ]
  },
  {
   "cell_type": "markdown",
   "id": "9eea7cfb",
   "metadata": {},
   "source": [
    "5. What are the six comparison operators?"
   ]
  },
  {
   "cell_type": "code",
   "execution_count": null,
   "id": "9407711e",
   "metadata": {},
   "outputs": [],
   "source": [
    "Six comparision operators as follows\n",
    "(>) - greater than\n",
    "(>=) - greater than or equal to\n",
    "(<) - less than\n",
    "(<=) - less than or equal to\n",
    "(==) - equal to\n",
    "(!=) - not equal to"
   ]
  },
  {
   "cell_type": "markdown",
   "id": "d06b611f",
   "metadata": {},
   "source": [
    "6. How do you tell the difference between the equal to and assignment operators?Describe a\n",
    "condition and when you would use one."
   ]
  },
  {
   "cell_type": "code",
   "execution_count": null,
   "id": "0a170fe2",
   "metadata": {},
   "outputs": [],
   "source": [
    "Equal to (==) operator is used to check the two condition are True or not \n",
    "Assignment operator is used to assign the value to defined variable \n",
    "eg. \n",
    "we want to check two variable are equal or not then we use equal to operator \n",
    "we want to define a variable assign some value to it then use of assignment operator"
   ]
  },
  {
   "cell_type": "markdown",
   "id": "13906150",
   "metadata": {},
   "source": [
    "7. Identify the three blocks in this code:\n",
    "spam = 0\n",
    "if spam == 10:\n",
    "print(\"eggs\")\n",
    "if spam > 5:\n",
    "print(\"bacon\")\n",
    "else:\n",
    "print(\"ham\")\n",
    "print(\"spam\")\n",
    "print(\"spam\")"
   ]
  },
  {
   "cell_type": "code",
   "execution_count": null,
   "id": "477c7b00",
   "metadata": {},
   "outputs": [],
   "source": [
    "Block in the code are\n",
    "First block\n",
    "spam = 0\n",
    "if spam == 10:\n",
    "      print(\"eggs\")\n",
    "Second block\n",
    "if spam > 5:\n",
    "    print(\"bacon\")\n",
    "Third block\n",
    "else:\n",
    "print(\"ham\")\n",
    "print(\"spam\")\n",
    "print(\"spam\")"
   ]
  },
  {
   "cell_type": "markdown",
   "id": "56b78bc6",
   "metadata": {},
   "source": [
    "8. Write code that prints Hello if 1 is stored in spam, prints Howdy if 2 is stored in spam, and prints\n",
    "Greetings! if anything else is stored in spam."
   ]
  },
  {
   "cell_type": "code",
   "execution_count": null,
   "id": "345cecc4",
   "metadata": {},
   "outputs": [],
   "source": [
    "Spam=int(input(\"enter a number=\"))\n",
    "if spam ==1:\n",
    "    print(\"Hello\")\n",
    "elif spam ==2:\n",
    "    print(\"Howdy\")\n",
    "else:\n",
    "     print(\"Greetings\")\n"
   ]
  },
  {
   "cell_type": "markdown",
   "id": "49b2bf2b",
   "metadata": {},
   "source": [
    "9.If your programme is stuck in an endless loop, what keys you’ll press?"
   ]
  },
  {
   "cell_type": "code",
   "execution_count": null,
   "id": "8e01f531",
   "metadata": {},
   "outputs": [],
   "source": [
    "Our programm is stuck in the endless loop then it need to interrupt the loop the we will press Ctrl+C"
   ]
  },
  {
   "cell_type": "markdown",
   "id": "7c6534eb",
   "metadata": {},
   "source": [
    "10. How can you tell the difference between break and continue?"
   ]
  },
  {
   "cell_type": "code",
   "execution_count": null,
   "id": "79e5ea76",
   "metadata": {},
   "outputs": [],
   "source": [
    "when we need to stop the loop when condition is satisfied then we use break after the condition \n",
    "break end the loop and passes control after the loop\n",
    "When we need to skip some value condition from given condition then we use continue after the condition\n",
    "continue skip that condition and follows the loop again it can not passes control out of the loop it skips the condition"
   ]
  },
  {
   "cell_type": "markdown",
   "id": "5d9d400c",
   "metadata": {},
   "source": [
    "11. In a for loop, what is the difference between range(10), range(0, 10), and range(0, 10, 1)?"
   ]
  },
  {
   "cell_type": "code",
   "execution_count": null,
   "id": "62ad8654",
   "metadata": {},
   "outputs": [],
   "source": [
    "range(10) - It is used to create the loop starting from 0 till 10.\n",
    "Here by default starting value is always 0 and end value is 1 less than the number ( i.e. 9 in this case).\n",
    "By default increment is always 1 in each iteration.\n",
    "\n",
    "range(0,10) - It is used to create the loop starting from 0 till 9. \n",
    "Here staring value is given explicitly.We can change the staring value in this case \n",
    "e.g. from 0 to 1 or 2 nd value is 1 less than the number ( i.e. 9 in this case).\n",
    "By default increment is always 1 in each iteration.\n",
    "\n",
    "range(0, 10, 1) - It is used to create the loop starting from 0 till 9.\n",
    "Here staring value is given explicitly.We can change the staring value in this case\n",
    "e.g. from 0 to 1 or 2 nd value is 1 less than the number ( i.e. 9 in this case).\n",
    "Here increment is also given as 1 in each iteration.We can change the increment to another values in this case."
   ]
  },
  {
   "cell_type": "markdown",
   "id": "9ff9756a",
   "metadata": {},
   "source": [
    "12. Write a short program that prints the numbers 1 to 10 using a for loop. Then write an equivalent\n",
    "program that prints the numbers 1 to 10 using a while loop."
   ]
  },
  {
   "cell_type": "code",
   "execution_count": 6,
   "id": "2eec2f44",
   "metadata": {},
   "outputs": [
    {
     "name": "stdout",
     "output_type": "stream",
     "text": [
      " by using for loop\n",
      "1 2 3 4 5 6 7 8 9 10 \n",
      " by using while loop\n",
      "1 2 3 4 5 6 7 8 9 10 "
     ]
    }
   ],
   "source": [
    "print(\" by using for loop\")\n",
    "for number in range(1,11):\n",
    "    print(number ,end=\" \")\n",
    "print(\"\\n by using while loop\")\n",
    "num=1    \n",
    "while num<=10:\n",
    "    print(num,end=\" \")\n",
    "    num+=1"
   ]
  },
  {
   "cell_type": "markdown",
   "id": "c658df3d",
   "metadata": {},
   "source": [
    "13. If you had a function named bacon() inside a module named spam, how would you call it after\n",
    "importing spam?"
   ]
  },
  {
   "cell_type": "code",
   "execution_count": null,
   "id": "938844fa",
   "metadata": {},
   "outputs": [],
   "source": [
    "we call the function inside the module by following method\n",
    "import spam\n",
    "spam.bacon()"
   ]
  }
 ],
 "metadata": {
  "kernelspec": {
   "display_name": "Python 3 (ipykernel)",
   "language": "python",
   "name": "python3"
  },
  "language_info": {
   "codemirror_mode": {
    "name": "ipython",
    "version": 3
   },
   "file_extension": ".py",
   "mimetype": "text/x-python",
   "name": "python",
   "nbconvert_exporter": "python",
   "pygments_lexer": "ipython3",
   "version": "3.9.12"
  }
 },
 "nbformat": 4,
 "nbformat_minor": 5
}
