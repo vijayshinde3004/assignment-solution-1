{
 "cells": [
  {
   "cell_type": "code",
   "execution_count": null,
   "id": "7019e9c7",
   "metadata": {},
   "outputs": [],
   "source": [
    "1. What does an empty dictionary's code look like?"
   ]
  },
  {
   "cell_type": "code",
   "execution_count": 1,
   "id": "b7039bca",
   "metadata": {},
   "outputs": [
    {
     "name": "stdout",
     "output_type": "stream",
     "text": [
      "0\n",
      "<class 'dict'>\n"
     ]
    }
   ],
   "source": [
    "# Dictionary is a datatype which store data in key and value pair. Empty dictionary can be done in two ways {} and dict()\n",
    "dict1={}\n",
    "print(len(dict1))\n",
    "print(type(dict1))"
   ]
  },
  {
   "cell_type": "code",
   "execution_count": null,
   "id": "06c22dfe",
   "metadata": {},
   "outputs": [],
   "source": [
    "2. What is the value of a dictionary value with the key 'foo' and the value 42?"
   ]
  },
  {
   "cell_type": "code",
   "execution_count": 2,
   "id": "5daf5af0",
   "metadata": {},
   "outputs": [
    {
     "data": {
      "text/plain": [
       "dict_values([42])"
      ]
     },
     "execution_count": 2,
     "metadata": {},
     "output_type": "execute_result"
    }
   ],
   "source": [
    "# we can get the value of key by dict1.values() command\n",
    "dict2={\"foo\":42}\n",
    "dict2.values()"
   ]
  },
  {
   "cell_type": "code",
   "execution_count": null,
   "id": "ed8464b9",
   "metadata": {},
   "outputs": [],
   "source": [
    "3. What is the most significant distinction between a dictionary and a list?"
   ]
  },
  {
   "cell_type": "code",
   "execution_count": null,
   "id": "70da9d15",
   "metadata": {},
   "outputs": [],
   "source": [
    "List - is a collection of hetrogenious and homogenious data stored in sequence. which is refered by a single name.\n",
    "Each element can be accessed using index\n",
    "\n",
    "Dictionary - is a collection of key-value pairs store. Any value can be access by key."
   ]
  },
  {
   "cell_type": "code",
   "execution_count": null,
   "id": "925155a5",
   "metadata": {},
   "outputs": [],
   "source": [
    "4.What happens if you try to access spam['foo'] if spam is {'bar': 100}?"
   ]
  },
  {
   "cell_type": "code",
   "execution_count": 3,
   "id": "1efdd319",
   "metadata": {},
   "outputs": [
    {
     "ename": "KeyError",
     "evalue": "'foo'",
     "output_type": "error",
     "traceback": [
      "\u001b[1;31m---------------------------------------------------------------------------\u001b[0m",
      "\u001b[1;31mKeyError\u001b[0m                                  Traceback (most recent call last)",
      "Input \u001b[1;32mIn [3]\u001b[0m, in \u001b[0;36m<cell line: 2>\u001b[1;34m()\u001b[0m\n\u001b[0;32m      1\u001b[0m spam\u001b[38;5;241m=\u001b[39m{\u001b[38;5;124m'\u001b[39m\u001b[38;5;124mbar\u001b[39m\u001b[38;5;124m'\u001b[39m: \u001b[38;5;241m100\u001b[39m}\n\u001b[1;32m----> 2\u001b[0m \u001b[43mspam\u001b[49m\u001b[43m[\u001b[49m\u001b[38;5;124;43m\"\u001b[39;49m\u001b[38;5;124;43mfoo\u001b[39;49m\u001b[38;5;124;43m\"\u001b[39;49m\u001b[43m]\u001b[49m\n",
      "\u001b[1;31mKeyError\u001b[0m: 'foo'"
     ]
    }
   ],
   "source": [
    "# The key not present in dictionry the it shows the key error \n",
    "spam={'bar': 100}\n",
    "spam[\"foo\"]"
   ]
  },
  {
   "cell_type": "code",
   "execution_count": null,
   "id": "df95ff35",
   "metadata": {},
   "outputs": [],
   "source": [
    "5. If a dictionary is stored in spam, what is the difference between the expressions 'cat' in spam and'cat' in spam.keys()?"
   ]
  },
  {
   "cell_type": "code",
   "execution_count": 12,
   "id": "0eff3c00",
   "metadata": {},
   "outputs": [
    {
     "name": "stdout",
     "output_type": "stream",
     "text": [
      "True\n",
      "True\n"
     ]
    }
   ],
   "source": [
    "spam={\"cat\":\"animal\"}\n",
    "# in this we have dictionary with key as \"cat\" both will be gives True.\n",
    "# Their is no any difference in output of thoes command\n",
    "\n",
    "print(\"cat\" in spam)\n",
    "print(\"cat\"in spam.keys())"
   ]
  },
  {
   "cell_type": "code",
   "execution_count": null,
   "id": "79825fef",
   "metadata": {},
   "outputs": [],
   "source": [
    "6. If a dictionary is stored in spam, what is the difference between the expressions 'cat' in spam and'cat' in spam.values()?"
   ]
  },
  {
   "cell_type": "code",
   "execution_count": 13,
   "id": "a19f05a3",
   "metadata": {},
   "outputs": [
    {
     "name": "stdout",
     "output_type": "stream",
     "text": [
      "True\n",
      "False\n"
     ]
    }
   ],
   "source": [
    "spam={\"cat\":\"animal\"}\n",
    "# if dictionary having \"cat\" as key then 1 st command gives true  and  2 nd command gives false \n",
    "# if  key and value is \"cat\" present in dictionary then both will give correct output as True\n",
    "print(\"cat\" in spam)\n",
    "print(\"cat\"in spam.values())"
   ]
  },
  {
   "cell_type": "code",
   "execution_count": null,
   "id": "57eee008",
   "metadata": {},
   "outputs": [],
   "source": [
    "7. What is a shortcut for the following code?\n",
    "if 'color' not in spam:\n",
    "spam['color'] = 'black'"
   ]
  },
  {
   "cell_type": "code",
   "execution_count": 16,
   "id": "d6f28918",
   "metadata": {},
   "outputs": [
    {
     "data": {
      "text/plain": [
       "{'color': 'black'}"
      ]
     },
     "execution_count": 16,
     "metadata": {},
     "output_type": "execute_result"
    }
   ],
   "source": [
    "# This is a short cut code for following given code\n",
    "spam={}\n",
    "spam.setdefault(\"color\",\"black\")\n",
    "\n",
    "# spam={}\n",
    "# if 'color' not in spam:\n",
    "#     spam['color'] = 'black'\n",
    "print(spam)"
   ]
  },
  {
   "cell_type": "code",
   "execution_count": null,
   "id": "be81af74",
   "metadata": {},
   "outputs": [],
   "source": [
    "8. How do you \"pretty print\" dictionary values using which module and function?"
   ]
  },
  {
   "cell_type": "code",
   "execution_count": null,
   "id": "1c083211",
   "metadata": {},
   "outputs": [],
   "source": [
    "we use pprint() module and pprint() function for pretty print"
   ]
  },
  {
   "cell_type": "code",
   "execution_count": 17,
   "id": "0d173ea8",
   "metadata": {},
   "outputs": [],
   "source": [
    "dict3=[{'Name': 'John', 'Age': '23', 'Country': 'USA'},\n",
    "  {'Name': 'Jose', 'Age': '44', 'Country': 'Spain'},\n",
    "  {'Name': 'Anne', 'Age': '29', 'Country': 'UK'},\n",
    "  {'Name': 'Lee', 'Age': '35', 'Country': 'Japan'}]"
   ]
  },
  {
   "cell_type": "code",
   "execution_count": 18,
   "id": "8ea24049",
   "metadata": {},
   "outputs": [
    {
     "name": "stdout",
     "output_type": "stream",
     "text": [
      "[{'Age': '23', 'Country': 'USA', 'Name': 'John'},\n",
      " {'Age': '44', 'Country': 'Spain', 'Name': 'Jose'},\n",
      " {'Age': '29', 'Country': 'UK', 'Name': 'Anne'},\n",
      " {'Age': '35', 'Country': 'Japan', 'Name': 'Lee'}]\n"
     ]
    }
   ],
   "source": [
    "import pprint\n",
    "\n",
    "pprint.pprint(dict3)"
   ]
  },
  {
   "cell_type": "code",
   "execution_count": null,
   "id": "b282dc11",
   "metadata": {},
   "outputs": [],
   "source": []
  }
 ],
 "metadata": {
  "kernelspec": {
   "display_name": "Python 3 (ipykernel)",
   "language": "python",
   "name": "python3"
  },
  "language_info": {
   "codemirror_mode": {
    "name": "ipython",
    "version": 3
   },
   "file_extension": ".py",
   "mimetype": "text/x-python",
   "name": "python",
   "nbconvert_exporter": "python",
   "pygments_lexer": "ipython3",
   "version": "3.9.12"
  }
 },
 "nbformat": 4,
 "nbformat_minor": 5
}
