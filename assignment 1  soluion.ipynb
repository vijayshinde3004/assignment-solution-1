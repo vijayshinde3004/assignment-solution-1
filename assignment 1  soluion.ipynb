{
 "cells": [
  {
   "cell_type": "markdown",
   "id": "a73bc112",
   "metadata": {},
   "source": [
    "# Assignment 1 solution"
   ]
  },
  {
   "cell_type": "markdown",
   "id": "54b0b818",
   "metadata": {},
   "source": [
    "Q1. In the below elements which of them are values or an expression? eg:- values can be integer or string and expressions will be mathematical operators.\n",
    "-   * \n",
    "-  'hello'\n",
    "-  -87.8\n",
    "-  - \n",
    "-  / \n",
    "- +\t\n",
    "-  6 \n"
   ]
  },
  {
   "cell_type": "code",
   "execution_count": null,
   "id": "ab0015bd",
   "metadata": {},
   "outputs": [],
   "source": [
    "-   * -(Expression)\n",
    "-  'hello'-(value)\n",
    "-  -87.8 -(value)\n",
    "-  - (Expression)\n",
    "-  / (Expression)\n",
    "- +\t(Expression)\n",
    "-  6 -(value)\n"
   ]
  },
  {
   "cell_type": "markdown",
   "id": "69f9b8d7",
   "metadata": {},
   "source": [
    "2. What is the difference between string and variable?"
   ]
  },
  {
   "cell_type": "code",
   "execution_count": null,
   "id": "a6427e22",
   "metadata": {},
   "outputs": [],
   "source": [
    "Variable\n",
    "Variable in python is a identifier which store the a value and memory .\n",
    "values of variable is int,float,string,list,dict etc\n",
    "we can assign different values to varible \n",
    "eg.a=10\n",
    "in above example variable \"a\" can store the value 10 and memory to it \n",
    "when we  re-assign the a = 20, the value in the memory address will be changed to 20. \n",
    "we can think of variable as an identifier  \n",
    "value that is created and stored in a memory location.\n",
    "A variable can be of several types like integer, string, float, etc. \n",
    "based on the value we assign to it\n",
    "\n"
   ]
  },
  {
   "cell_type": "code",
   "execution_count": null,
   "id": "fc7967e4",
   "metadata": {},
   "outputs": [],
   "source": [
    "string\n",
    "string in python is anything that covered with single or double quotes\n",
    "string can be value of variable \n",
    "eg.a=\"10\"\n",
    "in above example variable \"a\" carring \"10\"as string not an int \n",
    "we can not consider 10 as int because it covered with quotes\n"
   ]
  },
  {
   "cell_type": "markdown",
   "id": "afe94a90",
   "metadata": {},
   "source": [
    "3. Describe three different data types"
   ]
  },
  {
   "cell_type": "code",
   "execution_count": null,
   "id": "f9a02e7c",
   "metadata": {},
   "outputs": [],
   "source": [
    "Their is different data types in python such that \n",
    "Numeric-int, float,complex\n",
    "Sequence Type-string,tuple,list\n",
    "Boolean-\n",
    "Set\n",
    "Dictionary\n",
    "\n",
    "In Python numeric data type represent the data which has numeric value. \n",
    "Numeric value can be integer, floating number ,complex numbers. \n",
    "values are defined as int, float and complex class in Python.\n",
    "\n",
    "Integers – This value is represented by int class. It contains positive or negative whole numbers eg.100,1000\n",
    "Float – This value is represented by float class. It is a real number with floating point representation eg.1.2,35.25  \n",
    "Complex Numbers – Complex number is represented by complex class. eg.2+3j\n",
    "\n",
    "Data type with one of the two built-in values, True or False.\n",
    "Boolean objects that are equal to True l.e True, and  equal to False l.e false \n",
    "It is reprensed by the class bool.\n",
    "\n",
    "In Python, Set is an unordered collection of data type that is iterable, mutable and has no duplicate elements.\n",
    "The order of elements in a set is undefined though it may consist of various elements.\n",
    "\n",
    "Creating Sets\n",
    "Sets can be created by using  set() , separated by ‘comma’.\n",
    "Type of elements in a set can not be the same,set does not allow dict in that \n",
    "various mixed-up data type values can also be passed to the set.\n"
   ]
  },
  {
   "cell_type": "markdown",
   "id": "f521a600",
   "metadata": {},
   "source": [
    "4. What is an expression made up of? What do all expressions do?"
   ]
  },
  {
   "cell_type": "code",
   "execution_count": null,
   "id": "a5e84b33",
   "metadata": {},
   "outputs": [],
   "source": [
    "Expression is An  combination of operators and different signs \n",
    "Expression is evaluated as its operators and sign used.\n",
    "if there is more than one operator in an expression \n",
    "in that case depends upon sign used which operation will be performed first. \n",
    "different types of expressions in Python\n",
    "1.Arithmetic\n",
    "An arithmetic expression is a combination of numeric values, operators\n",
    "arithmetic operators like addition, subtraction, etc.\n",
    "to add the int value then we use \"+\"sign subtraction \"-\",multiflication \"*\"\n",
    "2.Logical  \n",
    "These are the expressions that output having True or False.\n",
    "it is  specifies one or more conditions. \n",
    "eg.10 == 9\n",
    "in above example it is not correct, so it will return False. \n",
    "we use different logical expression like and ,or\n",
    "while using and both condition will be satisfide and while using or only one condition will satisfide then it will be run\n"
   ]
  },
  {
   "cell_type": "markdown",
   "id": "b90857aa",
   "metadata": {},
   "source": [
    "5. This assignment statements, like spam = 10. What is the difference between an expression and a statement?"
   ]
  },
  {
   "cell_type": "code",
   "execution_count": null,
   "id": "5889ae20",
   "metadata": {},
   "outputs": [],
   "source": [
    "expression is made up of combinaton of different operators to get some output\n",
    "expression can reduces the hole expresion into one values\n",
    "statement has only execution  and it can not return anything\n",
    "eg.\n",
    "a=5\n",
    "b=5\n",
    "spam=a+b\n",
    "print(spam)\n",
    "in that eg spam having expresion "
   ]
  },
  {
   "cell_type": "markdown",
   "id": "ed1c1abc",
   "metadata": {},
   "source": [
    "6. After running the following code, what does the variable bacon contain?\n",
    "bacon = 22\n",
    "bacon + 1"
   ]
  },
  {
   "cell_type": "code",
   "execution_count": 6,
   "id": "bd9ac3c9",
   "metadata": {},
   "outputs": [],
   "source": [
    "bacon = 22\n",
    "bacon + 1\n",
    "it add the 1 in to bacon l.e 23"
   ]
  },
  {
   "cell_type": "code",
   "execution_count": null,
   "id": "8186e0a4",
   "metadata": {},
   "outputs": [],
   "source": [
    "7. What should the values of the following two terms be?\n",
    "'spam' + 'spamspam'\n",
    "'spam' * 3\n"
   ]
  },
  {
   "cell_type": "code",
   "execution_count": null,
   "id": "7ae14a87",
   "metadata": {},
   "outputs": [],
   "source": [
    "1.'spam' + 'spamspam'\n",
    "it gies output as 'spamspamspam'\n",
    "2.'spam' * 3\n",
    "it gies output as 'spamspamspam'"
   ]
  },
  {
   "cell_type": "code",
   "execution_count": null,
   "id": "d28162af",
   "metadata": {},
   "outputs": [],
   "source": [
    "8. Why is eggs a valid variable name while 100 is invalid?"
   ]
  },
  {
   "cell_type": "code",
   "execution_count": null,
   "id": "2fdcd505",
   "metadata": {},
   "outputs": [],
   "source": [
    "variables also knows as identifier in python some rules for write the identifier\n",
    "it do not start from integer value ,undersore,keyword \n",
    "it can any name that is written in upper or lowercase alphabets\n",
    "thats why \n",
    "eggs is a valid one \n",
    "100 in a invalid varibles"
   ]
  },
  {
   "cell_type": "code",
   "execution_count": null,
   "id": "7009d61f",
   "metadata": {},
   "outputs": [],
   "source": [
    "9. What three functions can be used to get the integer, floating-point number, or string version of a value?"
   ]
  },
  {
   "cell_type": "code",
   "execution_count": null,
   "id": "027b37cd",
   "metadata": {},
   "outputs": [],
   "source": [
    "three function are \n",
    "1.int()=using this we get all integer value eg. 1,2,3\n",
    "2.float()=using this we get float values eg.1.2,3.5,4.5\n",
    "3.str()=using this we get string eg.\"1\",\"2\",\"3\""
   ]
  },
  {
   "cell_type": "markdown",
   "id": "9cf6ce0c",
   "metadata": {},
   "source": [
    "10. Why does this expression cause an error? How can you fix it?\n",
    "'I have eaten ' + 99 + ' burritos.'\n"
   ]
  },
  {
   "cell_type": "code",
   "execution_count": null,
   "id": "52873498",
   "metadata": {},
   "outputs": [],
   "source": [
    "'I have eaten ' + 99 + ' burritos.'\n",
    "concatenate string and int not possible thats why we convert int in to string \n",
    "l.e 'I have eaten' + ' 99 ' + 'burritos\n"
   ]
  },
  {
   "cell_type": "code",
   "execution_count": null,
   "id": "b9b3391d",
   "metadata": {},
   "outputs": [],
   "source": []
  },
  {
   "cell_type": "code",
   "execution_count": null,
   "id": "6e078626",
   "metadata": {},
   "outputs": [],
   "source": []
  },
  {
   "cell_type": "code",
   "execution_count": null,
   "id": "854480f3",
   "metadata": {},
   "outputs": [],
   "source": []
  }
 ],
 "metadata": {
  "kernelspec": {
   "display_name": "Python 3 (ipykernel)",
   "language": "python",
   "name": "python3"
  },
  "language_info": {
   "codemirror_mode": {
    "name": "ipython",
    "version": 3
   },
   "file_extension": ".py",
   "mimetype": "text/x-python",
   "name": "python",
   "nbconvert_exporter": "python",
   "pygments_lexer": "ipython3",
   "version": "3.9.12"
  }
 },
 "nbformat": 4,
 "nbformat_minor": 5
}
