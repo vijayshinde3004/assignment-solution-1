{
 "cells": [
  {
   "cell_type": "code",
   "execution_count": null,
   "id": "89fe21c5",
   "metadata": {},
   "outputs": [],
   "source": [
    "1. What advantages do Excel spreadsheets have over CSV spreadsheets?"
   ]
  },
  {
   "cell_type": "code",
   "execution_count": null,
   "id": "7918c3e7",
   "metadata": {},
   "outputs": [],
   "source": [
    "The Advantages of Excel over CSV are:\n",
    "Excel (XLS and XLSX) file formats are better for storing and analysing complex data.\n",
    "An Excel not only stores data but can also do operations on the data using macros, formulas etc\n",
    "CSV files are plain-text files, Does not contain formatting, formulas, macros, etc. \n",
    "It is also known as flat files"
   ]
  },
  {
   "cell_type": "code",
   "execution_count": null,
   "id": "26eb41b7",
   "metadata": {},
   "outputs": [],
   "source": [
    "2.What do you pass to csv.reader() and csv.writer() to create reader and writer objects?"
   ]
  },
  {
   "cell_type": "code",
   "execution_count": 3,
   "id": "c433f2d8",
   "metadata": {},
   "outputs": [
    {
     "name": "stdout",
     "output_type": "stream",
     "text": [
      "['Product', ' Customer Name', ' Rating', ' Heading', ' Comment ']\n"
     ]
    }
   ],
   "source": [
    "import csv\n",
    "with open('iphone.csv','r') as file:\n",
    "    csv_file = csv.reader(file,delimiter=',')\n",
    "    for ele in csv_file:\n",
    "        print(ele)"
   ]
  },
  {
   "cell_type": "code",
   "execution_count": null,
   "id": "7e9cb72e",
   "metadata": {},
   "outputs": [],
   "source": [
    "3. What modes do File objects for reader and writer objects need to be opened in?"
   ]
  },
  {
   "cell_type": "code",
   "execution_count": null,
   "id": "0a9644a9",
   "metadata": {},
   "outputs": [],
   "source": [
    "For csv.reader(iterable_file_object), the file objects needed to be opened in read mode mode='r' \n",
    "Whereas for csv.writer(iterable_file_object) the file objects needed to be opened in write mode mode='w'"
   ]
  },
  {
   "cell_type": "code",
   "execution_count": null,
   "id": "7c16b1ba",
   "metadata": {},
   "outputs": [],
   "source": [
    "4. What method takes a list argument and writes it to a CSV file?"
   ]
  },
  {
   "cell_type": "code",
   "execution_count": 4,
   "id": "9fbcbf57",
   "metadata": {},
   "outputs": [],
   "source": [
    "# csv.writer class provides two methods for writing to CSV file as follows\n",
    "# writerow() and writerows(). writerow() that method writes a single row at a time.\n",
    "# Whereas writerows() method is used to write multiple rows at a time.\n",
    "\n",
    "import csv      \n",
    "fields = ['Name', 'designation'] \n",
    "rows = [ \n",
    "            ['vijay', 'HOD'], \n",
    "            ['rahul', 'Principle'], \n",
    "            ['abhi', 'CEO']\n",
    "       ] \n",
    "with open(\"text2.csv\", 'w') as csvfile: \n",
    "    csvwriter = csv.writer(csvfile)  \n",
    "    csvwriter.writerow(fields) \n",
    "    csvwriter.writerows(rows) "
   ]
  },
  {
   "cell_type": "code",
   "execution_count": null,
   "id": "d62aa665",
   "metadata": {},
   "outputs": [],
   "source": [
    "5. What do the keyword arguments delimiter and line terminator do?"
   ]
  },
  {
   "cell_type": "code",
   "execution_count": null,
   "id": "e5026d40",
   "metadata": {},
   "outputs": [],
   "source": [
    "example of a csv file:\n",
    "Name, designation\n",
    "vijay,HOD\n",
    "ABHI, Principle\n",
    "Here ',' is Delimiter. We can use any Character as per our needs. \n",
    "Similarly Line Terminator comes at end of line by default it is newline and can be changed accourding to Requirement."
   ]
  },
  {
   "cell_type": "code",
   "execution_count": null,
   "id": "1c12ae90",
   "metadata": {},
   "outputs": [],
   "source": [
    "6. What function takes a string of JSON data and returns a Python data structure?"
   ]
  },
  {
   "cell_type": "code",
   "execution_count": 9,
   "id": "26354077",
   "metadata": {},
   "outputs": [
    {
     "name": "stdout",
     "output_type": "stream",
     "text": [
      "{\n",
      "    \"Name\": \"vijay\",\n",
      "    \"designation\": \"HOD\"\n",
      "}\n",
      "<class 'str'>\n",
      "{'Name': 'vijay', 'designation': 'HOD'}\n",
      "<class 'dict'>\n"
     ]
    }
   ],
   "source": [
    "# loads() method takes a string of JSON data and returns a Python data structure\n",
    "import json\n",
    "my_details_json ='''{\n",
    "    \"Name\": \"vijay\",\n",
    "    \"designation\": \"HOD\"\n",
    "}'''\n",
    "print(my_details_json)\n",
    "print(type(my_details_json))\n",
    "my_details = json.loads(my_details_json)\n",
    "print(my_details)\n",
    "print(type(my_details))"
   ]
  },
  {
   "cell_type": "code",
   "execution_count": null,
   "id": "776bb8f6",
   "metadata": {},
   "outputs": [],
   "source": [
    "7. What function takes a Python data structure and returns a string of JSON data?"
   ]
  },
  {
   "cell_type": "code",
   "execution_count": 17,
   "id": "e7d6e45f",
   "metadata": {},
   "outputs": [
    {
     "name": "stdout",
     "output_type": "stream",
     "text": [
      "{'Name': 'vijay', 'designation': 'HOD'}\n",
      "<class 'dict'>\n",
      "{\"Name\": \"vijay\", \"designation\": \"HOD\"}\n",
      "<class 'str'>\n"
     ]
    }
   ],
   "source": [
    "# dumps() method takes a python data structure and returns a string of JSON data\n",
    "import json\n",
    "details ={\n",
    "    \"Name\": \"vijay\",\n",
    "    \"designation\": \"HOD\"\n",
    "}\n",
    "print(details)\n",
    "print(type(details))\n",
    "details1 = json.dumps(details, sort_keys=True)\n",
    "print(details1)\n",
    "print(type(details1))"
   ]
  },
  {
   "cell_type": "code",
   "execution_count": null,
   "id": "c83174a0",
   "metadata": {},
   "outputs": [],
   "source": []
  }
 ],
 "metadata": {
  "kernelspec": {
   "display_name": "Python 3 (ipykernel)",
   "language": "python",
   "name": "python3"
  },
  "language_info": {
   "codemirror_mode": {
    "name": "ipython",
    "version": 3
   },
   "file_extension": ".py",
   "mimetype": "text/x-python",
   "name": "python",
   "nbconvert_exporter": "python",
   "pygments_lexer": "ipython3",
   "version": "3.9.12"
  }
 },
 "nbformat": 4,
 "nbformat_minor": 5
}
