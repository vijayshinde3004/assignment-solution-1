{
 "cells": [
  {
   "cell_type": "code",
   "execution_count": null,
   "id": "dad8ffda",
   "metadata": {},
   "outputs": [],
   "source": [
    "1. What does RGBA stand for?"
   ]
  },
  {
   "cell_type": "code",
   "execution_count": null,
   "id": "d5f8624d",
   "metadata": {},
   "outputs": [],
   "source": [
    "RGBA stand for Red-Green-Blue-Alpha\n",
    "RGBA is a four-channel format containing data for Red, Green, Blue, and an Alpha value. \n",
    "Where Alpha Represents the Opacity"
   ]
  },
  {
   "cell_type": "code",
   "execution_count": null,
   "id": "049c7e1c",
   "metadata": {},
   "outputs": [],
   "source": [
    "2. From the Pillow module, how do you get the RGBA value of any images?"
   ]
  },
  {
   "cell_type": "code",
   "execution_count": null,
   "id": "374d7525",
   "metadata": {},
   "outputs": [],
   "source": [
    "ImageColor.getcolor() gives rgba value of any image"
   ]
  },
  {
   "cell_type": "code",
   "execution_count": null,
   "id": "61188909",
   "metadata": {},
   "outputs": [],
   "source": [
    "3. What is a box tuple, and how does it work?"
   ]
  },
  {
   "cell_type": "code",
   "execution_count": null,
   "id": "ea109a17",
   "metadata": {},
   "outputs": [],
   "source": [
    "The box provides read-only access for the tuple userdata type. \n",
    "It allows for a single tuple selective retrieval of the field contents retrieval of information about size \n",
    "iteration over all the fields.\n",
    "A box tuple is a tuple value of four integers: the left-edge x-coordinate \n",
    "the top-edge y-coordinate,the width, and the height, respectively."
   ]
  },
  {
   "cell_type": "code",
   "execution_count": null,
   "id": "d57b61cd",
   "metadata": {},
   "outputs": [],
   "source": [
    "4.Use your image and load in notebook then, How can you find out the width and height of an Image object?"
   ]
  },
  {
   "cell_type": "code",
   "execution_count": 4,
   "id": "0691b107",
   "metadata": {},
   "outputs": [
    {
     "name": "stdout",
     "output_type": "stream",
     "text": [
      "(345, 443)\n"
     ]
    }
   ],
   "source": [
    "from PIL import Image\n",
    "pic = Image.open(r'F:\\data0\\0920.jpg')\n",
    "print(pic.size) \n"
   ]
  },
  {
   "cell_type": "code",
   "execution_count": null,
   "id": "fb65573e",
   "metadata": {},
   "outputs": [],
   "source": [
    "5. What method would you call to get Image object for a 100×100 image, excluding the lower-left quarter of it?"
   ]
  },
  {
   "cell_type": "code",
   "execution_count": 5,
   "id": "a0330d74",
   "metadata": {},
   "outputs": [],
   "source": [
    "from PIL import Image\n",
    "img = Image.open(r'F:\\data0\\0920.jpg')\n",
    "new_img = img.crop((0,50,50,50))"
   ]
  },
  {
   "cell_type": "code",
   "execution_count": null,
   "id": "728f1a8b",
   "metadata": {},
   "outputs": [],
   "source": [
    "6. After making changes to an Image object, how could you save it as an image file?"
   ]
  },
  {
   "cell_type": "code",
   "execution_count": 6,
   "id": "dd855373",
   "metadata": {},
   "outputs": [],
   "source": [
    "from PIL import Image\n",
    "pic = Image.open(r'F:\\data0\\0920.jpg')\n",
    "pic.save('pic2.jpg')"
   ]
  },
  {
   "cell_type": "code",
   "execution_count": null,
   "id": "a2e773ce",
   "metadata": {},
   "outputs": [],
   "source": [
    "7. What module contains Pillow’s shape-drawing code?"
   ]
  },
  {
   "cell_type": "code",
   "execution_count": 10,
   "id": "5f2787fb",
   "metadata": {},
   "outputs": [],
   "source": [
    "Pillows ImageDraw module contains Shape drawing methods"
   ]
  },
  {
   "cell_type": "code",
   "execution_count": null,
   "id": "ab340f69",
   "metadata": {},
   "outputs": [],
   "source": [
    "8. Image objects do not have drawing methods. What kind of object does? How do you get this kind of object?"
   ]
  },
  {
   "cell_type": "code",
   "execution_count": null,
   "id": "82f3fbf2",
   "metadata": {},
   "outputs": [],
   "source": [
    "ImageDraw objects have shape-drawing methods such as point(), line(), or rectangle().\n",
    "They are returned by passing the Image object to the ImageDraw.Draw() function."
   ]
  },
  {
   "cell_type": "code",
   "execution_count": null,
   "id": "c61ccbdc",
   "metadata": {},
   "outputs": [],
   "source": []
  }
 ],
 "metadata": {
  "kernelspec": {
   "display_name": "Python 3 (ipykernel)",
   "language": "python",
   "name": "python3"
  },
  "language_info": {
   "codemirror_mode": {
    "name": "ipython",
    "version": 3
   },
   "file_extension": ".py",
   "mimetype": "text/x-python",
   "name": "python",
   "nbconvert_exporter": "python",
   "pygments_lexer": "ipython3",
   "version": "3.9.12"
  }
 },
 "nbformat": 4,
 "nbformat_minor": 5
}
